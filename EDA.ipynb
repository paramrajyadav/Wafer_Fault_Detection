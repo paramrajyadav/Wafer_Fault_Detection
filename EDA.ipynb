{
 "cells": [
  {
   "cell_type": "code",
   "execution_count": 1,
   "id": "37f63042-5507-4823-969f-513e28444ec1",
   "metadata": {
    "tags": []
   },
   "outputs": [],
   "source": [
    "import pandas as pd\n",
    "import os\n",
    "import boto3\n",
    "import pyarrow.parquet as pq\n",
    "from io import BytesIO\n",
    "import numpy as np\n",
    "from imblearn.over_sampling import SMOTE\n",
    "import matplotlib.pyplot as plt\n",
    "import pandas as pd\n",
    "import pyarrow.parquet as pq\n",
    "from sklearn.model_selection import train_test_split\n",
    "import matplotlib.pyplot as plt\n",
    "from sklearn.pipeline import Pipeline\n",
    "from sklearn.compose import ColumnTransformer\n",
    "from sklearn.impute import SimpleImputer\n",
    "from sklearn.preprocessing import StandardScaler\n",
    "from sklearn.decomposition import PCA"
   ]
  },
  {
   "cell_type": "code",
   "execution_count": 2,
   "id": "a751926b",
   "metadata": {},
   "outputs": [],
   "source": [
    "from dotenv import load_dotenv"
   ]
  },
  {
   "cell_type": "code",
   "execution_count": 3,
   "id": "aca36cdb",
   "metadata": {},
   "outputs": [
    {
     "data": {
      "text/plain": [
       "True"
      ]
     },
     "execution_count": 3,
     "metadata": {},
     "output_type": "execute_result"
    }
   ],
   "source": [
    "load_dotenv()"
   ]
  },
  {
   "cell_type": "code",
   "execution_count": 4,
   "id": "93454e1b-edca-4021-9771-3b3eb8d9f715",
   "metadata": {
    "tags": []
   },
   "outputs": [
    {
     "name": "stdout",
     "output_type": "stream",
     "text": [
      "       class  aa_000 ab_000 ac_000 ad_000 ae_000 af_000 ag_000  ag_001  \\\n",
      "0        pos   73930      0     na     na      0      0      0     582   \n",
      "1        pos  354598      0      0     na      0      0      0       0   \n",
      "2        pos  189008      4   1130     na      0      0   8252  151670   \n",
      "3        pos      26     na      8      8      0      0      0       0   \n",
      "4        pos  356414     na   3326    964      0      0      0     684   \n",
      "...      ...     ...    ...    ...    ...    ...    ...    ...     ...   \n",
      "108494   neg   47332     na    660    652      0      0      0       0   \n",
      "108495   neg  104910     na    224      0      0      0      0       0   \n",
      "108496   neg     546      0     42     20      0      0      0       0   \n",
      "108497   neg   43506     na    490    378      0      0      0       0   \n",
      "108498   neg     214     na     24     24      0      0      0       0   \n",
      "\n",
      "        ag_002  ...  ee_003   ee_004   ee_005   ee_006  ee_007  ee_008 ee_009  \\\n",
      "0        77060  ...  147600   275068   113242    95412  420180    2290      0   \n",
      "1            0  ...       0        0        0        0       0       0      0   \n",
      "2       419434  ...  610524  1392830  2066464  2120486  919224   49632      8   \n",
      "3            0  ...      52       48       10       14      34       2      0   \n",
      "4        25500  ...  322188   675276  1114150  1320136  909416   40676      0   \n",
      "...        ...  ...     ...      ...      ...      ...     ...     ...    ...   \n",
      "108494       0  ...  229008   594804   615400   339224   62576    8690     44   \n",
      "108495       0  ...  451276   897990   855508   689156  382178  467906  45324   \n",
      "108496       0  ...     974     2614     6544     9290    2172       0      0   \n",
      "108497       0  ...  156964   292886   307134   305344  224386  300432  13366   \n",
      "108498       0  ...     928     1338      946     2380    1304      72      0   \n",
      "\n",
      "       ef_000 eg_000            partition_0  \n",
      "0           0      0  wafer_07012020_041044  \n",
      "1           0      0  wafer_07012020_041044  \n",
      "2           0      0  wafer_07012020_041044  \n",
      "3           0      0  wafer_07012020_041044  \n",
      "4           0      0  wafer_07012020_041044  \n",
      "...       ...    ...                    ...  \n",
      "108494      0      0  wafer_07012020_041044  \n",
      "108495      0      0  wafer_07012020_041044  \n",
      "108496      0      0  wafer_07012020_041044  \n",
      "108497      0      0  wafer_07012020_041044  \n",
      "108498      0      0  wafer_07012020_041044  \n",
      "\n",
      "[108499 rows x 172 columns]\n"
     ]
    }
   ],
   "source": [
    "AWS_ACCESS_KEY_ID = os.getenv(\"AWS_ACCESS_KEY_ID\")\n",
    "AWS_SECRET_ACCESS_KEY = os.getenv(\"AWS_SECRET_ACCESS_KEY\")\n",
    "S3_BUCKET_NAME = os.getenv(\"S3_BUCKET_NAME\")\n",
    "\n",
    "#print(S3_BUCKET_NAME)\n",
    "\n",
    "# Check if environment variables are set\n",
    "if not all([AWS_ACCESS_KEY_ID, AWS_SECRET_ACCESS_KEY, S3_BUCKET_NAME]):\n",
    "    raise ValueError(\"AWS credentials or S3 bucket name not set\")\n",
    "\n",
    "# Create an S3 client\n",
    "s3 = boto3.client('s3', aws_access_key_id=AWS_ACCESS_KEY_ID, aws_secret_access_key=AWS_SECRET_ACCESS_KEY)\n",
    "\n",
    "def read_and_merge_parquet_files(s3_bucket):\n",
    "    try:\n",
    "        # List objects in the S3 bucket\n",
    "        objects = s3.list_objects(Bucket=s3_bucket)\n",
    "\n",
    "        # Process the objects and create a DataFrame\n",
    "        dfs = []\n",
    "        for obj in objects.get('Contents', []):\n",
    "            # Your logic to read and process Parquet files goes here\n",
    "            # For example, using pyarrow to read Parquet file\n",
    "            response = s3.get_object(Bucket=s3_bucket, Key=obj['Key'])\n",
    "            parquet_file = BytesIO(response['Body'].read())\n",
    "            df = pq.read_table(parquet_file).to_pandas()\n",
    "            dfs.append(df)\n",
    "\n",
    "        # Merge the dataframes\n",
    "        if dfs:\n",
    "            merged_df = pd.concat(dfs, ignore_index=True)\n",
    "            return merged_df\n",
    "        else:\n",
    "            print(\"No Parquet files found in the S3 bucket.\")\n",
    "            return None\n",
    "    \n",
    "    except Exception as e:\n",
    "        print(f\"Error: {e}\")\n",
    "        return None\n",
    "\n",
    "# Call the function\n",
    "merged_data = read_and_merge_parquet_files(S3_BUCKET_NAME)\n",
    "\n",
    "# Print the result if it's not None\n",
    "if merged_data is not None:\n",
    "    print(merged_data)\n",
    "else:\n",
    "    print(\"Error occurred during processing.\")\n"
   ]
  },
  {
   "cell_type": "code",
   "execution_count": 5,
   "id": "befe61c0",
   "metadata": {},
   "outputs": [
    {
     "name": "stdout",
     "output_type": "stream",
     "text": [
      "       class  aa_000 ab_000 ac_000 ad_000 ae_000 af_000 ag_000  ag_001  \\\n",
      "0        pos   73930      0     na     na      0      0      0     582   \n",
      "1        pos  354598      0      0     na      0      0      0       0   \n",
      "2        pos  189008      4   1130     na      0      0   8252  151670   \n",
      "3        pos      26     na      8      8      0      0      0       0   \n",
      "4        pos  356414     na   3326    964      0      0      0     684   \n",
      "...      ...     ...    ...    ...    ...    ...    ...    ...     ...   \n",
      "108494   neg   47332     na    660    652      0      0      0       0   \n",
      "108495   neg  104910     na    224      0      0      0      0       0   \n",
      "108496   neg     546      0     42     20      0      0      0       0   \n",
      "108497   neg   43506     na    490    378      0      0      0       0   \n",
      "108498   neg     214     na     24     24      0      0      0       0   \n",
      "\n",
      "        ag_002  ...  ee_003   ee_004   ee_005   ee_006  ee_007  ee_008 ee_009  \\\n",
      "0        77060  ...  147600   275068   113242    95412  420180    2290      0   \n",
      "1            0  ...       0        0        0        0       0       0      0   \n",
      "2       419434  ...  610524  1392830  2066464  2120486  919224   49632      8   \n",
      "3            0  ...      52       48       10       14      34       2      0   \n",
      "4        25500  ...  322188   675276  1114150  1320136  909416   40676      0   \n",
      "...        ...  ...     ...      ...      ...      ...     ...     ...    ...   \n",
      "108494       0  ...  229008   594804   615400   339224   62576    8690     44   \n",
      "108495       0  ...  451276   897990   855508   689156  382178  467906  45324   \n",
      "108496       0  ...     974     2614     6544     9290    2172       0      0   \n",
      "108497       0  ...  156964   292886   307134   305344  224386  300432  13366   \n",
      "108498       0  ...     928     1338      946     2380    1304      72      0   \n",
      "\n",
      "       ef_000 eg_000            partition_0  \n",
      "0           0      0  wafer_07012020_041044  \n",
      "1           0      0  wafer_07012020_041044  \n",
      "2           0      0  wafer_07012020_041044  \n",
      "3           0      0  wafer_07012020_041044  \n",
      "4           0      0  wafer_07012020_041044  \n",
      "...       ...    ...                    ...  \n",
      "108494      0      0  wafer_07012020_041044  \n",
      "108495      0      0  wafer_07012020_041044  \n",
      "108496      0      0  wafer_07012020_041044  \n",
      "108497      0      0  wafer_07012020_041044  \n",
      "108498      0      0  wafer_07012020_041044  \n",
      "\n",
      "[108499 rows x 172 columns]\n"
     ]
    }
   ],
   "source": [
    "print(merged_data)"
   ]
  },
  {
   "cell_type": "code",
   "execution_count": 6,
   "id": "78d547eb-36e5-4efe-8cb7-933fbc4de55b",
   "metadata": {
    "tags": []
   },
   "outputs": [],
   "source": [
    "merged_data.drop(\"partition_0\",axis=1,inplace=True)"
   ]
  },
  {
   "cell_type": "code",
   "execution_count": 7,
   "id": "cb7cfaf8-7507-419e-aeb5-9208e3688e1e",
   "metadata": {
    "tags": []
   },
   "outputs": [],
   "source": [
    "unique_values_column11 = merged_data['class'].value_counts()"
   ]
  },
  {
   "cell_type": "code",
   "execution_count": 8,
   "id": "fdb18297",
   "metadata": {},
   "outputs": [],
   "source": [
    "import numpy as np"
   ]
  },
  {
   "cell_type": "code",
   "execution_count": 9,
   "id": "beee9830-2dcf-4222-be9d-4c427caff560",
   "metadata": {
    "tags": []
   },
   "outputs": [],
   "source": [
    "\n",
    "merged_data.replace('na', np.nan, inplace=True)"
   ]
  },
  {
   "cell_type": "code",
   "execution_count": 10,
   "id": "52bf97c1-86d6-4230-b11b-0ca74924aec2",
   "metadata": {
    "tags": []
   },
   "outputs": [],
   "source": [
    "merged_data['class'] = merged_data['class'].replace('pos', 1).replace(['neg'], 0)\n"
   ]
  },
  {
   "cell_type": "code",
   "execution_count": 11,
   "id": "5582c43b-e26c-4846-ad72-f12d2acfdb5c",
   "metadata": {
    "tags": []
   },
   "outputs": [],
   "source": [
    "x = [i for i in merged_data.columns]\n",
    "filtered_list = [item for item in x if item not in (\"class\")]\n"
   ]
  },
  {
   "cell_type": "code",
   "execution_count": 12,
   "id": "35de842d-21f8-403f-8592-248be5c0e563",
   "metadata": {
    "tags": []
   },
   "outputs": [],
   "source": [
    "for column in filtered_list:\n",
    "    merged_data[column] = pd.to_numeric(merged_data[column], errors='coerce')\n"
   ]
  },
  {
   "cell_type": "code",
   "execution_count": 13,
   "id": "4dffab2d-7ec3-4b46-8adc-bbef0f7be7f2",
   "metadata": {
    "tags": []
   },
   "outputs": [
    {
     "name": "stdout",
     "output_type": "stream",
     "text": [
      "List of unique columns from highly correlated pairs: ['cb_000', 'ag_002', 'bx_000', 'ba_003', 'cs_000', 'bo_000', 'ay_002', 'bu_000', 'bq_000', 'bv_000', 'cn_005', 'al_000', 'ak_000', 'an_000', 'bi_000', 'by_000', 'cn_001', 'dl_000', 'aj_000', 'ag_003', 'ec_00', 'ba_000', 'cq_000', 'cn_004', 'ap_000', 'cs_002', 'cv_000', 'aq_000', 'do_000', 'ba_005', 'ds_000', 'ag_007', 'ah_000', 'az_005', 'ag_006', 'am_0', 'bp_000', 'bt_000', 'ca_000', 'dm_000', 'ee_003', 'bh_000', 'cf_000', 'ad_000', 'bb_000', 'bn_000', 'ee_004', 'ay_003', 'ba_002', 'ag_004', 'ba_006', 'cc_000', 'ba_004', 'cn_003', 'cn_002', 'cs_005', 'dp_000', 'bj_000', 'ee_002', 'ag_005', 'ee_000', 'ao_000', 'bg_000', 'aa_000', 'bm_000', 'bl_000', 'dt_000', 'dc_000', 'ci_000', 'ba_001']\n"
     ]
    }
   ],
   "source": [
    "correlation_matrix = merged_data.corr()\n",
    "\n",
    "\n",
    "highly_correlated_pairs = []\n",
    "considered_columns = set()\n",
    "\n",
    "for i in range(len(correlation_matrix.columns)):\n",
    "    for j in range(i):\n",
    "        colname1 = correlation_matrix.columns[i]\n",
    "        colname2 = correlation_matrix.columns[j]\n",
    "        \n",
    "        \n",
    "        if colname1 != colname2:\n",
    "            \n",
    "            if colname1 not in considered_columns and colname2 not in considered_columns:\n",
    "                if abs(correlation_matrix.iloc[i, j]) > 0.85:\n",
    "                    pair = (colname1, colname2)\n",
    "                    highly_correlated_pairs.append(pair)\n",
    "                    considered_columns.add(colname1)\n",
    "                    considered_columns.add(colname2)\n",
    "\n",
    "unique_columns = list(set(column for pair in highly_correlated_pairs for column in pair))\n",
    "\n",
    "print(\"List of unique columns from highly correlated pairs:\", unique_columns)"
   ]
  },
  {
   "cell_type": "code",
   "execution_count": 14,
   "id": "cc7a245c-c7ec-4251-8fb3-ed2932963a3a",
   "metadata": {
    "tags": []
   },
   "outputs": [],
   "source": [
    "merged_data.drop(unique_columns,axis=1,inplace=True)"
   ]
  },
  {
   "cell_type": "code",
   "execution_count": 15,
   "id": "e209e837-f612-4d49-92be-20a7d231732e",
   "metadata": {
    "tags": []
   },
   "outputs": [],
   "source": [
    "\n",
    "\n",
    "y = merged_data['class']  \n",
    "\n",
    "\n",
    "X_train, X_test, y_train, y_test = train_test_split(merged_data.drop('class', axis=1) , y, test_size=0.2, random_state=42)\n"
   ]
  },
  {
   "cell_type": "code",
   "execution_count": 16,
   "id": "56b0fdba-8cb4-40c4-9b6d-f7aba85dbadb",
   "metadata": {
    "tags": []
   },
   "outputs": [],
   "source": [
    "numeric_features=X_train.columns"
   ]
  },
  {
   "cell_type": "code",
   "execution_count": 17,
   "id": "370f0955-8519-44a4-804b-a2f831ab28b8",
   "metadata": {
    "tags": []
   },
   "outputs": [],
   "source": [
    "preprocessor = ColumnTransformer(\n",
    "    transformers=[\n",
    "        ('numeric', Pipeline([\n",
    "            ('imputer', SimpleImputer(strategy='mean')),\n",
    "            ('scaler', StandardScaler()),\n",
    "            ('pca', PCA(n_components=6))  # You can adjust the number of components as needed\n",
    "        ]), numeric_features)\n",
    "    ])\n"
   ]
  },
  {
   "cell_type": "code",
   "execution_count": 18,
   "id": "b50b3719-78b9-4eed-a52a-94bfac352dcf",
   "metadata": {
    "tags": []
   },
   "outputs": [],
   "source": [
    "pipeline = Pipeline([\n",
    "    ('preprocessor', preprocessor)\n",
    "])\n",
    "\n",
    "\n",
    "X_train = pipeline.fit_transform(X_train)\n",
    "X_test= pipeline.transform(X_test)"
   ]
  },
  {
   "cell_type": "code",
   "execution_count": 19,
   "id": "03dc9b1c-040b-4958-ba04-6401a0a8f7f2",
   "metadata": {
    "tags": []
   },
   "outputs": [],
   "source": [
    "import os\n",
    "import matplotlib.pyplot as plt\n",
    "\n",
    "# Create a folder named 'Aux_data' if it doesn't exist\n",
    "plots_folder = 'Aux_data'\n",
    "os.makedirs(plots_folder, exist_ok=True)\n",
    "\n",
    "num_columns = X_train.shape[1]\n",
    "\n",
    "for i in range(num_columns):\n",
    "    # Create a new figure for each feature\n",
    "    fig, ax = plt.subplots(figsize=(8, 6))\n",
    "\n",
    "    # Plot the histogram for the current feature\n",
    "    ax.hist(X_train[:, i], bins=10, color='blue', alpha=0.7)\n",
    "    ax.set_title(f'Feature {i + 1}')\n",
    "    ax.set_xlabel('Value')\n",
    "    ax.set_ylabel('Frequency')\n",
    "\n",
    "    # Save the plot for the current feature\n",
    "    plot_filename = os.path.join(plots_folder, f'feature_{i + 1}_histogram.png')\n",
    "    plt.savefig(plot_filename)\n",
    "\n",
    "    # Close the current figure to avoid overlapping plots\n",
    "    plt.close()\n"
   ]
  },
  {
   "cell_type": "code",
   "execution_count": 20,
   "id": "3f120c7c-ec2a-487d-aed8-0f7a30d0fdd0",
   "metadata": {
    "tags": []
   },
   "outputs": [],
   "source": [
    "\n",
    "smote = SMOTE(random_state=42)\n",
    "X_train, y_train = smote.fit_resample(X_train, y_train)\n"
   ]
  },
  {
   "cell_type": "code",
   "execution_count": 21,
   "id": "779aa170",
   "metadata": {},
   "outputs": [
    {
     "data": {
      "text/plain": [
       "168906"
      ]
     },
     "execution_count": 21,
     "metadata": {},
     "output_type": "execute_result"
    }
   ],
   "source": [
    "len(X_train)"
   ]
  },
  {
   "cell_type": "code",
   "execution_count": 22,
   "id": "31fd9d4c",
   "metadata": {},
   "outputs": [
    {
     "data": {
      "text/plain": [
       "168906"
      ]
     },
     "execution_count": 22,
     "metadata": {},
     "output_type": "execute_result"
    }
   ],
   "source": [
    "len(y_train)"
   ]
  },
  {
   "cell_type": "code",
   "execution_count": 23,
   "id": "5eeabb35",
   "metadata": {},
   "outputs": [
    {
     "data": {
      "text/plain": [
       "21700"
      ]
     },
     "execution_count": 23,
     "metadata": {},
     "output_type": "execute_result"
    }
   ],
   "source": [
    "len(y_test)"
   ]
  },
  {
   "cell_type": "code",
   "execution_count": 24,
   "id": "ce474378",
   "metadata": {},
   "outputs": [
    {
     "data": {
      "text/plain": [
       "21700"
      ]
     },
     "execution_count": 24,
     "metadata": {},
     "output_type": "execute_result"
    }
   ],
   "source": [
    "len(X_test)"
   ]
  },
  {
   "cell_type": "code",
   "execution_count": 25,
   "id": "500cb84d",
   "metadata": {},
   "outputs": [
    {
     "name": "stderr",
     "output_type": "stream",
     "text": [
      "c:\\Users\\awscl\\.conda\\envs\\ML\\Lib\\site-packages\\tqdm\\auto.py:21: TqdmWarning: IProgress not found. Please update jupyter and ipywidgets. See https://ipywidgets.readthedocs.io/en/stable/user_install.html\n",
      "  from .autonotebook import tqdm as notebook_tqdm\n",
      "[I 2023-12-19 10:11:17,376] A new study created in memory with name: no-name-13528cb9-2149-40b7-b991-e0bf5f635174\n",
      "[I 2023-12-19 10:11:18,153] Trial 0 finished with value: 0.8387096774193549 and parameters: {'criterion': 'gini', 'max_depth': 30, 'min_samples_split': 0.6298897525989567, 'min_samples_leaf': 0.29616988632326247, 'max_features': 0.3391537552508472}. Best is trial 0 with value: 0.8387096774193549.\n",
      "[I 2023-12-19 10:11:18,430] Trial 1 finished with value: 0.9219015280135824 and parameters: {'criterion': 'entropy', 'max_depth': 32, 'min_samples_split': 0.7872839475171833, 'min_samples_leaf': 0.4555988309691503, 'max_features': 0.6279799281724814}. Best is trial 1 with value: 0.9219015280135824.\n",
      "[I 2023-12-19 10:11:18,635] Trial 2 finished with value: 0.5823429541595926 and parameters: {'criterion': 'gini', 'max_depth': 26, 'min_samples_split': 0.939237674321442, 'min_samples_leaf': 0.41286584537935733, 'max_features': 0.19583879959086187}. Best is trial 1 with value: 0.9219015280135824.\n",
      "[I 2023-12-19 10:11:18,956] Trial 3 finished with value: 0.9219015280135824 and parameters: {'criterion': 'entropy', 'max_depth': 18, 'min_samples_split': 0.6383885167454262, 'min_samples_leaf': 0.44535251236900675, 'max_features': 0.9554610334308496}. Best is trial 1 with value: 0.9219015280135824.\n",
      "[I 2023-12-19 10:11:19,224] Trial 4 finished with value: 0.9219015280135824 and parameters: {'criterion': 'gini', 'max_depth': 31, 'min_samples_split': 0.7689464867616289, 'min_samples_leaf': 0.4785318757596768, 'max_features': 0.4407716642269982}. Best is trial 1 with value: 0.9219015280135824.\n",
      "[I 2023-12-19 10:11:19,570] Trial 5 finished with value: 0.9219015280135824 and parameters: {'criterion': 'gini', 'max_depth': 6, 'min_samples_split': 0.30396253767636827, 'min_samples_leaf': 0.48528996490706877, 'max_features': 0.648920046784397}. Best is trial 1 with value: 0.9219015280135824.\n",
      "[I 2023-12-19 10:11:19,875] Trial 6 finished with value: 0.7385398981324278 and parameters: {'criterion': 'entropy', 'max_depth': 24, 'min_samples_split': 0.8186182375544345, 'min_samples_leaf': 0.49935840819218424, 'max_features': 0.6128082166677137}. Best is trial 1 with value: 0.9219015280135824.\n",
      "[I 2023-12-19 10:11:20,107] Trial 7 finished with value: 0.9219015280135824 and parameters: {'criterion': 'entropy', 'max_depth': 22, 'min_samples_split': 0.6323317144700891, 'min_samples_leaf': 0.49032433423824884, 'max_features': 0.4417464832190081}. Best is trial 1 with value: 0.9219015280135824.\n",
      "[I 2023-12-19 10:11:20,619] Trial 8 finished with value: 0.9219015280135824 and parameters: {'criterion': 'entropy', 'max_depth': 14, 'min_samples_split': 0.137796376985804, 'min_samples_leaf': 0.1653940879532753, 'max_features': 0.5499800821483075}. Best is trial 1 with value: 0.9219015280135824.\n",
      "[I 2023-12-19 10:11:21,123] Trial 9 finished with value: 0.9219015280135824 and parameters: {'criterion': 'entropy', 'max_depth': 30, 'min_samples_split': 0.9411906989920701, 'min_samples_leaf': 0.3099797198820675, 'max_features': 0.964464441513204}. Best is trial 1 with value: 0.9219015280135824.\n",
      "[I 2023-12-19 10:11:21,903] Trial 10 finished with value: 0.66723259762309 and parameters: {'criterion': 'entropy', 'max_depth': 1, 'min_samples_split': 0.420863059271117, 'min_samples_leaf': 0.351680127460619, 'max_features': 0.8105544181707032}. Best is trial 1 with value: 0.9219015280135824.\n",
      "[I 2023-12-19 10:11:22,590] Trial 11 finished with value: 0.9219015280135824 and parameters: {'criterion': 'entropy', 'max_depth': 15, 'min_samples_split': 0.522470247328231, 'min_samples_leaf': 0.39165540166332674, 'max_features': 0.9918044904371934}. Best is trial 1 with value: 0.9219015280135824.\n",
      "[I 2023-12-19 10:11:23,389] Trial 12 finished with value: 0.66723259762309 and parameters: {'criterion': 'entropy', 'max_depth': 20, 'min_samples_split': 0.795921175358465, 'min_samples_leaf': 0.22219010647399035, 'max_features': 0.7947551911356805}. Best is trial 1 with value: 0.9219015280135824.\n",
      "[I 2023-12-19 10:11:23,888] Trial 13 finished with value: 0.7147707979626485 and parameters: {'criterion': 'entropy', 'max_depth': 10, 'min_samples_split': 0.6506170582085697, 'min_samples_leaf': 0.41758008552636844, 'max_features': 0.825094383879929}. Best is trial 1 with value: 0.9219015280135824.\n",
      "[I 2023-12-19 10:11:24,396] Trial 14 finished with value: 0.7147707979626485 and parameters: {'criterion': 'entropy', 'max_depth': 19, 'min_samples_split': 0.45265159892678114, 'min_samples_leaf': 0.41812477606187193, 'max_features': 0.7049892341565613}. Best is trial 1 with value: 0.9219015280135824.\n",
      "[I 2023-12-19 10:11:24,899] Trial 15 finished with value: 0.8064516129032258 and parameters: {'criterion': 'entropy', 'max_depth': 10, 'min_samples_split': 0.7027783788793133, 'min_samples_leaf': 0.10396413074293787, 'max_features': 0.15703115711374332}. Best is trial 1 with value: 0.9219015280135824.\n",
      "[I 2023-12-19 10:11:25,421] Trial 16 finished with value: 0.9219015280135824 and parameters: {'criterion': 'entropy', 'max_depth': 26, 'min_samples_split': 0.9929348666881201, 'min_samples_leaf': 0.3651638128862754, 'max_features': 0.884508666415063}. Best is trial 1 with value: 0.9219015280135824.\n",
      "[I 2023-12-19 10:11:25,915] Trial 17 finished with value: 0.7232597623089984 and parameters: {'criterion': 'entropy', 'max_depth': 18, 'min_samples_split': 0.861891945444313, 'min_samples_leaf': 0.44956790471414554, 'max_features': 0.5153218102170659}. Best is trial 1 with value: 0.9219015280135824.\n",
      "[I 2023-12-19 10:11:26,289] Trial 18 finished with value: 0.8811544991511036 and parameters: {'criterion': 'gini', 'max_depth': 10, 'min_samples_split': 0.5470141902600391, 'min_samples_leaf': 0.2895518017755963, 'max_features': 0.297833293474548}. Best is trial 1 with value: 0.9219015280135824.\n",
      "[I 2023-12-19 10:11:27,116] Trial 19 finished with value: 0.9219015280135824 and parameters: {'criterion': 'entropy', 'max_depth': 27, 'min_samples_split': 0.3454130516194906, 'min_samples_leaf': 0.23616544266474063, 'max_features': 0.7254032113242244}. Best is trial 1 with value: 0.9219015280135824.\n",
      "[I 2023-12-19 10:11:27,636] Trial 20 finished with value: 0.9219015280135824 and parameters: {'criterion': 'entropy', 'max_depth': 5, 'min_samples_split': 0.7106555270489683, 'min_samples_leaf': 0.34280488578278584, 'max_features': 0.9232805296149109}. Best is trial 1 with value: 0.9219015280135824.\n",
      "[I 2023-12-19 10:11:27,979] Trial 21 finished with value: 0.7300509337860781 and parameters: {'criterion': 'gini', 'max_depth': 32, 'min_samples_split': 0.7587985585718029, 'min_samples_leaf': 0.4541981334063451, 'max_features': 0.45483312142221405}. Best is trial 1 with value: 0.9219015280135824.\n",
      "[I 2023-12-19 10:11:28,280] Trial 22 finished with value: 0.597623089983022 and parameters: {'criterion': 'gini', 'max_depth': 29, 'min_samples_split': 0.8558981796504173, 'min_samples_leaf': 0.4526282494883914, 'max_features': 0.3128114864165185}. Best is trial 1 with value: 0.9219015280135824.\n",
      "[I 2023-12-19 10:11:28,614] Trial 23 finished with value: 0.7300509337860781 and parameters: {'criterion': 'gini', 'max_depth': 32, 'min_samples_split': 0.745424937244465, 'min_samples_leaf': 0.4573019000105733, 'max_features': 0.47288441402322035}. Best is trial 1 with value: 0.9219015280135824.\n",
      "[I 2023-12-19 10:11:28,995] Trial 24 finished with value: 0.9219015280135824 and parameters: {'criterion': 'gini', 'max_depth': 24, 'min_samples_split': 0.5855961232103408, 'min_samples_leaf': 0.38419063178798774, 'max_features': 0.6065813041982353}. Best is trial 1 with value: 0.9219015280135824.\n",
      "[I 2023-12-19 10:11:29,359] Trial 25 finished with value: 0.9219015280135824 and parameters: {'criterion': 'gini', 'max_depth': 22, 'min_samples_split': 0.8879901463578528, 'min_samples_leaf': 0.42412759777053344, 'max_features': 0.41701477645488505}. Best is trial 1 with value: 0.9219015280135824.\n",
      "[I 2023-12-19 10:11:29,830] Trial 26 finished with value: 0.9219015280135824 and parameters: {'criterion': 'gini', 'max_depth': 29, 'min_samples_split': 0.6825685352373927, 'min_samples_leaf': 0.4765288712837555, 'max_features': 0.7300124727887165}. Best is trial 1 with value: 0.9219015280135824.\n",
      "[I 2023-12-19 10:11:30,222] Trial 27 finished with value: 0.9219015280135824 and parameters: {'criterion': 'entropy', 'max_depth': 13, 'min_samples_split': 0.7975085521560668, 'min_samples_leaf': 0.43488729187953595, 'max_features': 0.368650784998688}. Best is trial 1 with value: 0.9219015280135824.\n",
      "[I 2023-12-19 10:11:30,543] Trial 28 finished with value: 0.5466893039049237 and parameters: {'criterion': 'gini', 'max_depth': 32, 'min_samples_split': 0.49996152249127035, 'min_samples_leaf': 0.39580458482482106, 'max_features': 0.22668541129214226}. Best is trial 1 with value: 0.9219015280135824.\n",
      "[I 2023-12-19 10:11:30,945] Trial 29 finished with value: 0.9405772495755518 and parameters: {'criterion': 'gini', 'max_depth': 28, 'min_samples_split': 0.5941463938521285, 'min_samples_leaf': 0.3187558671587455, 'max_features': 0.3745994782171091}. Best is trial 29 with value: 0.9405772495755518.\n",
      "[I 2023-12-19 10:11:31,282] Trial 30 finished with value: 0.5297113752122241 and parameters: {'criterion': 'entropy', 'max_depth': 28, 'min_samples_split': 0.5782861864626148, 'min_samples_leaf': 0.3121359273117583, 'max_features': 0.2581210100894527}. Best is trial 29 with value: 0.9405772495755518.\n",
      "[I 2023-12-19 10:11:31,696] Trial 31 finished with value: 0.9541595925297114 and parameters: {'criterion': 'gini', 'max_depth': 30, 'min_samples_split': 0.6361464049653256, 'min_samples_leaf': 0.2659854025284224, 'max_features': 0.36920902052114607}. Best is trial 31 with value: 0.9541595925297114.\n",
      "[I 2023-12-19 10:11:32,109] Trial 32 finished with value: 0.833616298811545 and parameters: {'criterion': 'gini', 'max_depth': 25, 'min_samples_split': 0.6474108404815448, 'min_samples_leaf': 0.24945872977216055, 'max_features': 0.3682741330516743}. Best is trial 31 with value: 0.9541595925297114.\n",
      "[I 2023-12-19 10:11:32,451] Trial 33 finished with value: 0.8370118845500849 and parameters: {'criterion': 'gini', 'max_depth': 28, 'min_samples_split': 0.5895512556366648, 'min_samples_leaf': 0.26087866409576305, 'max_features': 0.11310747458091858}. Best is trial 31 with value: 0.9541595925297114.\n",
      "[I 2023-12-19 10:11:33,047] Trial 34 finished with value: 0.9219015280135824 and parameters: {'criterion': 'gini', 'max_depth': 22, 'min_samples_split': 0.484367450653165, 'min_samples_leaf': 0.21050480395877616, 'max_features': 0.5159958903285975}. Best is trial 31 with value: 0.9541595925297114.\n",
      "[I 2023-12-19 10:11:33,531] Trial 35 finished with value: 0.8471986417657046 and parameters: {'criterion': 'gini', 'max_depth': 31, 'min_samples_split': 0.4088271426605088, 'min_samples_leaf': 0.1830343221819651, 'max_features': 0.40259289516057994}. Best is trial 31 with value: 0.9541595925297114.\n",
      "[I 2023-12-19 10:11:33,992] Trial 36 finished with value: 0.9219015280135824 and parameters: {'criterion': 'gini', 'max_depth': 30, 'min_samples_split': 0.723528874248199, 'min_samples_leaf': 0.2721669872884919, 'max_features': 0.6559252217824456}. Best is trial 31 with value: 0.9541595925297114.\n",
      "[I 2023-12-19 10:11:34,335] Trial 37 finished with value: 0.8998302207130731 and parameters: {'criterion': 'gini', 'max_depth': 27, 'min_samples_split': 0.60778836040823, 'min_samples_leaf': 0.18652299477336368, 'max_features': 0.2546941591190547}. Best is trial 31 with value: 0.9541595925297114.\n",
      "[I 2023-12-19 10:11:34,738] Trial 38 finished with value: 0.9219015280135824 and parameters: {'criterion': 'entropy', 'max_depth': 17, 'min_samples_split': 0.6604532655496986, 'min_samples_leaf': 0.3319467296648916, 'max_features': 0.5747884694193587}. Best is trial 31 with value: 0.9541595925297114.\n",
      "[I 2023-12-19 10:11:35,139] Trial 39 finished with value: 0.6808149405772496 and parameters: {'criterion': 'gini', 'max_depth': 23, 'min_samples_split': 0.34960759252991536, 'min_samples_leaf': 0.2893679407927007, 'max_features': 0.35746762347825467}. Best is trial 31 with value: 0.9541595925297114.\n",
      "[I 2023-12-19 10:11:35,489] Trial 40 finished with value: 0.6808149405772496 and parameters: {'criterion': 'entropy', 'max_depth': 30, 'min_samples_split': 0.15339082353392725, 'min_samples_leaf': 0.3746762250041033, 'max_features': 0.4993651652645317}. Best is trial 31 with value: 0.9541595925297114.\n",
      "[I 2023-12-19 10:11:35,822] Trial 41 finished with value: 0.9219015280135824 and parameters: {'criterion': 'gini', 'max_depth': 26, 'min_samples_split': 0.770340214771747, 'min_samples_leaf': 0.4797293558251979, 'max_features': 0.41749820964461304}. Best is trial 31 with value: 0.9541595925297114.\n",
      "[I 2023-12-19 10:11:36,125] Trial 42 finished with value: 0.4923599320882852 and parameters: {'criterion': 'gini', 'max_depth': 30, 'min_samples_split': 0.8169597253266987, 'min_samples_leaf': 0.46959026803918585, 'max_features': 0.32016832891504404}. Best is trial 31 with value: 0.9541595925297114.\n",
      "[I 2023-12-19 10:11:36,547] Trial 43 finished with value: 0.9219015280135824 and parameters: {'criterion': 'gini', 'max_depth': 32, 'min_samples_split': 0.9077826382461103, 'min_samples_leaf': 0.49263420536865166, 'max_features': 0.5513354664471521}. Best is trial 31 with value: 0.9541595925297114.\n",
      "[I 2023-12-19 10:11:37,037] Trial 44 finished with value: 0.7062818336162988 and parameters: {'criterion': 'entropy', 'max_depth': 20, 'min_samples_split': 0.6772184097834598, 'min_samples_leaf': 0.4035432457399082, 'max_features': 0.8447773704721302}. Best is trial 31 with value: 0.9541595925297114.\n",
      "[I 2023-12-19 10:11:37,403] Trial 45 finished with value: 0.597623089983022 and parameters: {'criterion': 'gini', 'max_depth': 28, 'min_samples_split': 0.6312584552110083, 'min_samples_leaf': 0.4345418052041284, 'max_features': 0.2711178061410323}. Best is trial 31 with value: 0.9541595925297114.\n",
      "[I 2023-12-19 10:11:37,878] Trial 46 finished with value: 0.9219015280135824 and parameters: {'criterion': 'entropy', 'max_depth': 15, 'min_samples_split': 0.8365803103207652, 'min_samples_leaf': 0.11766928203642449, 'max_features': 0.6430205805465152}. Best is trial 31 with value: 0.9541595925297114.\n",
      "[I 2023-12-19 10:11:38,331] Trial 47 finished with value: 0.9219015280135824 and parameters: {'criterion': 'entropy', 'max_depth': 25, 'min_samples_split': 0.5339876006589042, 'min_samples_leaf': 0.36608191520757666, 'max_features': 0.7795010140488816}. Best is trial 31 with value: 0.9541595925297114.\n",
      "[I 2023-12-19 10:11:38,682] Trial 48 finished with value: 0.6808149405772496 and parameters: {'criterion': 'gini', 'max_depth': 31, 'min_samples_split': 0.9548603076331531, 'min_samples_leaf': 0.3179268949800347, 'max_features': 0.3946795831710798}. Best is trial 31 with value: 0.9541595925297114.\n",
      "[I 2023-12-19 10:11:38,999] Trial 49 finished with value: 0.7385398981324278 and parameters: {'criterion': 'entropy', 'max_depth': 3, 'min_samples_split': 0.7332004769420706, 'min_samples_leaf': 0.4924043476815852, 'max_features': 0.18781427825373675}. Best is trial 31 with value: 0.9541595925297114.\n",
      "[I 2023-12-19 10:11:39,449] Trial 50 finished with value: 0.9134125636672326 and parameters: {'criterion': 'gini', 'max_depth': 13, 'min_samples_split': 0.7898362690416603, 'min_samples_leaf': 0.49936181082252656, 'max_features': 0.9923551165029294}. Best is trial 31 with value: 0.9541595925297114.\n",
      "[I 2023-12-19 10:11:39,863] Trial 51 finished with value: 0.9219015280135824 and parameters: {'criterion': 'gini', 'max_depth': 7, 'min_samples_split': 0.11335603324847843, 'min_samples_leaf': 0.46548871875926423, 'max_features': 0.6755156133931265}. Best is trial 31 with value: 0.9541595925297114.\n",
      "[I 2023-12-19 10:11:40,325] Trial 52 finished with value: 0.9219015280135824 and parameters: {'criterion': 'gini', 'max_depth': 8, 'min_samples_split': 0.21225794998063172, 'min_samples_leaf': 0.47959035744610146, 'max_features': 0.7633459520089757}. Best is trial 31 with value: 0.9541595925297114.\n",
      "[I 2023-12-19 10:11:40,707] Trial 53 finished with value: 0.9219015280135824 and parameters: {'criterion': 'gini', 'max_depth': 3, 'min_samples_split': 0.3048569457113641, 'min_samples_leaf': 0.4319202315183855, 'max_features': 0.5928029491632971}. Best is trial 31 with value: 0.9541595925297114.\n",
      "[I 2023-12-19 10:11:41,235] Trial 54 finished with value: 0.9219015280135824 and parameters: {'criterion': 'entropy', 'max_depth': 29, 'min_samples_split': 0.5565492890577239, 'min_samples_leaf': 0.40477408651221075, 'max_features': 0.9316479671754198}. Best is trial 31 with value: 0.9541595925297114.\n",
      "[I 2023-12-19 10:11:41,575] Trial 55 finished with value: 0.9219015280135824 and parameters: {'criterion': 'gini', 'max_depth': 1, 'min_samples_split': 0.6184093042075239, 'min_samples_leaf': 0.44369285806089, 'max_features': 0.4813210654331492}. Best is trial 31 with value: 0.9541595925297114.\n",
      "[I 2023-12-19 10:11:41,935] Trial 56 finished with value: 0.9219015280135824 and parameters: {'criterion': 'entropy', 'max_depth': 27, 'min_samples_split': 0.7129592923438081, 'min_samples_leaf': 0.4158791546610879, 'max_features': 0.4576176376479878}. Best is trial 31 with value: 0.9541595925297114.\n",
      "[I 2023-12-19 10:11:42,424] Trial 57 finished with value: 0.6808149405772496 and parameters: {'criterion': 'gini', 'max_depth': 31, 'min_samples_split': 0.431624369381039, 'min_samples_leaf': 0.2220848584529992, 'max_features': 0.5354125706308072}. Best is trial 31 with value: 0.9541595925297114.\n",
      "[I 2023-12-19 10:11:42,886] Trial 58 finished with value: 0.9219015280135824 and parameters: {'criterion': 'entropy', 'max_depth': 12, 'min_samples_split': 0.24637291818578017, 'min_samples_leaf': 0.4646809303154991, 'max_features': 0.8474406683570206}. Best is trial 31 with value: 0.9541595925297114.\n",
      "[I 2023-12-19 10:11:43,346] Trial 59 finished with value: 0.9219015280135824 and parameters: {'criterion': 'gini', 'max_depth': 18, 'min_samples_split': 0.5134737784650674, 'min_samples_leaf': 0.27774182611309717, 'max_features': 0.6922966326467196}. Best is trial 31 with value: 0.9541595925297114.\n",
      "[I 2023-12-19 10:11:43,752] Trial 60 finished with value: 0.597623089983022 and parameters: {'criterion': 'gini', 'max_depth': 29, 'min_samples_split': 0.5633416774641176, 'min_samples_leaf': 0.4459022221909443, 'max_features': 0.43031740973526494}. Best is trial 31 with value: 0.9541595925297114.\n",
      "[I 2023-12-19 10:11:44,088] Trial 61 finished with value: 0.599320882852292 and parameters: {'criterion': 'entropy', 'max_depth': 23, 'min_samples_split': 0.6791268681336186, 'min_samples_leaf': 0.4834008518839708, 'max_features': 0.44872930455745863}. Best is trial 31 with value: 0.9541595925297114.\n",
      "[I 2023-12-19 10:11:44,431] Trial 62 finished with value: 0.733446519524618 and parameters: {'criterion': 'entropy', 'max_depth': 20, 'min_samples_split': 0.47163108739576076, 'min_samples_leaf': 0.461721675640848, 'max_features': 0.32553227024781406}. Best is trial 31 with value: 0.9541595925297114.\n",
      "[I 2023-12-19 10:11:44,817] Trial 63 finished with value: 0.9219015280135824 and parameters: {'criterion': 'entropy', 'max_depth': 16, 'min_samples_split': 0.6337084685060326, 'min_samples_leaf': 0.48810401199374875, 'max_features': 0.38534054310754}. Best is trial 31 with value: 0.9541595925297114.\n",
      "[I 2023-12-19 10:11:45,117] Trial 64 finished with value: 0.5398981324278438 and parameters: {'criterion': 'entropy', 'max_depth': 32, 'min_samples_split': 0.7641644344081948, 'min_samples_leaf': 0.3509421087052281, 'max_features': 0.3505866859717549}. Best is trial 31 with value: 0.9541595925297114.\n",
      "[I 2023-12-19 10:11:45,497] Trial 65 finished with value: 0.7232597623089984 and parameters: {'criterion': 'entropy', 'max_depth': 21, 'min_samples_split': 0.6026320868666211, 'min_samples_leaf': 0.44808410099335066, 'max_features': 0.6201153520767331}. Best is trial 31 with value: 0.9541595925297114.\n",
      "[I 2023-12-19 10:11:45,840] Trial 66 finished with value: 0.9219015280135824 and parameters: {'criterion': 'entropy', 'max_depth': 25, 'min_samples_split': 0.7041420072665912, 'min_samples_leaf': 0.24182656770240663, 'max_features': 0.29661263569564944}. Best is trial 31 with value: 0.9541595925297114.\n",
      "[I 2023-12-19 10:11:46,180] Trial 67 finished with value: 0.9219015280135824 and parameters: {'criterion': 'gini', 'max_depth': 18, 'min_samples_split': 0.6634491272195009, 'min_samples_leaf': 0.47164187147137315, 'max_features': 0.560486442319732}. Best is trial 31 with value: 0.9541595925297114.\n",
      "[I 2023-12-19 10:11:46,545] Trial 68 finished with value: 0.9219015280135824 and parameters: {'criterion': 'entropy', 'max_depth': 31, 'min_samples_split': 0.7398277390566159, 'min_samples_leaf': 0.42551961769824825, 'max_features': 0.4925897048986899}. Best is trial 31 with value: 0.9541595925297114.\n",
      "[I 2023-12-19 10:11:46,851] Trial 69 finished with value: 0.9202037351443124 and parameters: {'criterion': 'gini', 'max_depth': 28, 'min_samples_split': 0.39976552000075016, 'min_samples_leaf': 0.4977496866695531, 'max_features': 0.5292476154499709}. Best is trial 31 with value: 0.9541595925297114.\n",
      "[I 2023-12-19 10:11:47,135] Trial 70 finished with value: 0.6808149405772496 and parameters: {'criterion': 'gini', 'max_depth': 11, 'min_samples_split': 0.8628754760387467, 'min_samples_leaf': 0.14713126061600132, 'max_features': 0.44065186104964}. Best is trial 31 with value: 0.9541595925297114.\n",
      "[I 2023-12-19 10:11:47,733] Trial 71 finished with value: 0.9219015280135824 and parameters: {'criterion': 'entropy', 'max_depth': 15, 'min_samples_split': 0.21609213266920185, 'min_samples_leaf': 0.1439474024336176, 'max_features': 0.6340891730515374}. Best is trial 31 with value: 0.9541595925297114.\n",
      "[I 2023-12-19 10:11:48,370] Trial 72 finished with value: 0.9219015280135824 and parameters: {'criterion': 'entropy', 'max_depth': 6, 'min_samples_split': 0.15850775288166158, 'min_samples_leaf': 0.16667716635392144, 'max_features': 0.7353985945800684}. Best is trial 31 with value: 0.9541595925297114.\n",
      "[I 2023-12-19 10:11:48,721] Trial 73 finished with value: 0.9303904923599321 and parameters: {'criterion': 'entropy', 'max_depth': 14, 'min_samples_split': 0.3029116198147134, 'min_samples_leaf': 0.2066154509928072, 'max_features': 0.4674662891838332}. Best is trial 31 with value: 0.9541595925297114.\n",
      "[I 2023-12-19 10:11:48,987] Trial 74 finished with value: 0.9219015280135824 and parameters: {'criterion': 'entropy', 'max_depth': 17, 'min_samples_split': 0.31414654642227285, 'min_samples_leaf': 0.29910910759954634, 'max_features': 0.37627817753460674}. Best is trial 31 with value: 0.9541595925297114.\n",
      "[I 2023-12-19 10:11:49,291] Trial 75 finished with value: 0.967741935483871 and parameters: {'criterion': 'entropy', 'max_depth': 9, 'min_samples_split': 0.36944623707517166, 'min_samples_leaf': 0.2256290452232076, 'max_features': 0.4157696848067417}. Best is trial 75 with value: 0.967741935483871.\n",
      "[I 2023-12-19 10:11:49,642] Trial 76 finished with value: 0.8930390492359932 and parameters: {'criterion': 'entropy', 'max_depth': 8, 'min_samples_split': 0.3647504418317973, 'min_samples_leaf': 0.20347703139080023, 'max_features': 0.4700193953980979}. Best is trial 75 with value: 0.967741935483871.\n",
      "[I 2023-12-19 10:11:49,965] Trial 77 finished with value: 0.8760611205432938 and parameters: {'criterion': 'entropy', 'max_depth': 9, 'min_samples_split': 0.24777608690336944, 'min_samples_leaf': 0.2642591828518435, 'max_features': 0.4017694574200832}. Best is trial 75 with value: 0.967741935483871.\n",
      "[I 2023-12-19 10:11:50,288] Trial 78 finished with value: 0.9032258064516129 and parameters: {'criterion': 'gini', 'max_depth': 5, 'min_samples_split': 0.39125467661271723, 'min_samples_leaf': 0.19470668518414408, 'max_features': 0.3422728414575159}. Best is trial 75 with value: 0.967741935483871.\n",
      "[I 2023-12-19 10:11:50,701] Trial 79 finished with value: 0.9219015280135824 and parameters: {'criterion': 'entropy', 'max_depth': 14, 'min_samples_split': 0.30864112419261697, 'min_samples_leaf': 0.22965704586940403, 'max_features': 0.5786652508170902}. Best is trial 75 with value: 0.967741935483871.\n",
      "[I 2023-12-19 10:11:51,017] Trial 80 finished with value: 0.8845500848896435 and parameters: {'criterion': 'gini', 'max_depth': 3, 'min_samples_split': 0.4487803992589716, 'min_samples_leaf': 0.25373423723326277, 'max_features': 0.2976390319389383}. Best is trial 75 with value: 0.967741935483871.\n",
      "[I 2023-12-19 10:11:51,334] Trial 81 finished with value: 0.8404074702886248 and parameters: {'criterion': 'entropy', 'max_depth': 19, 'min_samples_split': 0.26112833813552516, 'min_samples_leaf': 0.2810590315125678, 'max_features': 0.49105630351395346}. Best is trial 75 with value: 0.967741935483871.\n",
      "[I 2023-12-19 10:11:51,781] Trial 82 finished with value: 0.9219015280135824 and parameters: {'criterion': 'entropy', 'max_depth': 11, 'min_samples_split': 0.2716813609353913, 'min_samples_leaf': 0.21017418596217058, 'max_features': 0.4231188227427187}. Best is trial 75 with value: 0.967741935483871.\n",
      "[I 2023-12-19 10:11:52,148] Trial 83 finished with value: 0.967741935483871 and parameters: {'criterion': 'entropy', 'max_depth': 5, 'min_samples_split': 0.5273966553094542, 'min_samples_leaf': 0.22553010252677025, 'max_features': 0.5190590135177517}. Best is trial 75 with value: 0.967741935483871.\n",
      "[I 2023-12-19 10:11:52,558] Trial 84 finished with value: 0.9219015280135824 and parameters: {'criterion': 'entropy', 'max_depth': 5, 'min_samples_split': 0.3405565333074336, 'min_samples_leaf': 0.22934954469557595, 'max_features': 0.5276389635089377}. Best is trial 75 with value: 0.967741935483871.\n",
      "[I 2023-12-19 10:11:52,955] Trial 85 finished with value: 0.9473684210526315 and parameters: {'criterion': 'entropy', 'max_depth': 6, 'min_samples_split': 0.5805465039099825, 'min_samples_leaf': 0.24220627690011126, 'max_features': 0.5112693006709113}. Best is trial 75 with value: 0.967741935483871.\n",
      "[I 2023-12-19 10:11:53,271] Trial 86 finished with value: 0.9219015280135824 and parameters: {'criterion': 'entropy', 'max_depth': 4, 'min_samples_split': 0.5364884703366934, 'min_samples_leaf': 0.2380981117691691, 'max_features': 0.5027770733255035}. Best is trial 75 with value: 0.967741935483871.\n",
      "[I 2023-12-19 10:11:53,553] Trial 87 finished with value: 0.9219015280135824 and parameters: {'criterion': 'entropy', 'max_depth': 7, 'min_samples_split': 0.593354321279581, 'min_samples_leaf': 0.21577214614285167, 'max_features': 0.469070497102967}. Best is trial 75 with value: 0.967741935483871.\n",
      "[I 2023-12-19 10:11:53,871] Trial 88 finished with value: 0.8811544991511036 and parameters: {'criterion': 'entropy', 'max_depth': 6, 'min_samples_split': 0.5734464379588431, 'min_samples_leaf': 0.24713821086202975, 'max_features': 0.40053843904270703}. Best is trial 75 with value: 0.967741935483871.\n",
      "[I 2023-12-19 10:11:54,303] Trial 89 finished with value: 0.9219015280135824 and parameters: {'criterion': 'entropy', 'max_depth': 30, 'min_samples_split': 0.636817141251809, 'min_samples_leaf': 0.1817778441316411, 'max_features': 0.9641277947129703}. Best is trial 75 with value: 0.967741935483871.\n",
      "[I 2023-12-19 10:11:54,642] Trial 90 finished with value: 0.9219015280135824 and parameters: {'criterion': 'entropy', 'max_depth': 2, 'min_samples_split': 0.5060034075810431, 'min_samples_leaf': 0.26659613128439935, 'max_features': 0.44599191070313027}. Best is trial 75 with value: 0.967741935483871.\n",
      "[I 2023-12-19 10:11:54,953] Trial 91 finished with value: 0.5280135823429541 and parameters: {'criterion': 'gini', 'max_depth': 6, 'min_samples_split': 0.8021757708350206, 'min_samples_leaf': 0.2033865550790869, 'max_features': 0.5483752481757824}. Best is trial 75 with value: 0.967741935483871.\n",
      "[I 2023-12-19 10:11:55,438] Trial 92 finished with value: 0.9219015280135824 and parameters: {'criterion': 'entropy', 'max_depth': 9, 'min_samples_split': 0.3819089572921243, 'min_samples_leaf': 0.22187902227900666, 'max_features': 0.6032684124545785}. Best is trial 75 with value: 0.967741935483871.\n",
      "[I 2023-12-19 10:11:55,735] Trial 93 finished with value: 0.9219015280135824 and parameters: {'criterion': 'gini', 'max_depth': 7, 'min_samples_split': 0.4770745822581782, 'min_samples_leaf': 0.25207588609167564, 'max_features': 0.3637632834143252}. Best is trial 75 with value: 0.967741935483871.\n",
      "[I 2023-12-19 10:11:56,031] Trial 94 finished with value: 0.9219015280135824 and parameters: {'criterion': 'entropy', 'max_depth': 9, 'min_samples_split': 0.29513297614205203, 'min_samples_leaf': 0.3174928006195711, 'max_features': 0.5116296046276174}. Best is trial 75 with value: 0.967741935483871.\n",
      "[I 2023-12-19 10:11:56,304] Trial 95 finished with value: 0.6808149405772496 and parameters: {'criterion': 'gini', 'max_depth': 4, 'min_samples_split': 0.6890726830491223, 'min_samples_leaf': 0.18897560186254983, 'max_features': 0.42244981380045776}. Best is trial 75 with value: 0.967741935483871.\n",
      "[I 2023-12-19 10:11:56,648] Trial 96 finished with value: 0.9219015280135824 and parameters: {'criterion': 'entropy', 'max_depth': 31, 'min_samples_split': 0.6136056996222968, 'min_samples_leaf': 0.23261960174044694, 'max_features': 0.6723390630309467}. Best is trial 75 with value: 0.967741935483871.\n",
      "[I 2023-12-19 10:11:57,058] Trial 97 finished with value: 0.9219015280135824 and parameters: {'criterion': 'gini', 'max_depth': 8, 'min_samples_split': 0.32577166615058, 'min_samples_leaf': 0.17302999401581112, 'max_features': 0.574703087424555}. Best is trial 75 with value: 0.967741935483871.\n",
      "[I 2023-12-19 10:11:57,296] Trial 98 finished with value: 0.9219015280135824 and parameters: {'criterion': 'entropy', 'max_depth': 4, 'min_samples_split': 0.28612750777184387, 'min_samples_leaf': 0.28799068242188114, 'max_features': 0.3307656282089129}. Best is trial 75 with value: 0.967741935483871.\n",
      "[I 2023-12-19 10:11:57,629] Trial 99 finished with value: 0.9219015280135824 and parameters: {'criterion': 'gini', 'max_depth': 29, 'min_samples_split': 0.5483884700201356, 'min_samples_leaf': 0.45925596107133726, 'max_features': 0.8927577503176176}. Best is trial 75 with value: 0.967741935483871.\n"
     ]
    }
   ],
   "source": [
    "import mlflow\n",
    "import mlflow.sklearn\n",
    "import optuna\n",
    "from sklearn.tree import DecisionTreeClassifier\n",
    "from sklearn.metrics import recall_score\n",
    "\n",
    "# Assuming X_train, X_test, y_train, y_test are defined before this point\n",
    "\n",
    "def objective(trial):\n",
    "    dt_params = {\n",
    "        'criterion': trial.suggest_categorical('criterion', ['gini', 'entropy']),\n",
    "        'max_depth': trial.suggest_int('max_depth', 1, 32),\n",
    "        'min_samples_split': trial.suggest_float('min_samples_split', 0.1, 1.0),\n",
    "        'min_samples_leaf': trial.suggest_float('min_samples_leaf', 0.1, 0.5),\n",
    "        'max_features': trial.suggest_float('max_features', 0.1, 1.0),\n",
    "    }\n",
    "\n",
    "    dt_model = DecisionTreeClassifier(**dt_params)\n",
    "    dt_model.fit(X_train, y_train)\n",
    "\n",
    "    y_pred = dt_model.predict(X_test)\n",
    "\n",
    "    recall = recall_score(y_test, y_pred)\n",
    "\n",
    "    # Log parameters and metrics for each trial\n",
    "    with mlflow.start_run(nested=True):\n",
    "        mlflow.log_params(dt_params)\n",
    "        mlflow.log_metric(\"recall\", recall)\n",
    "\n",
    "    return recall\n",
    "\n",
    "mlflow.set_experiment(\"decision_tree_hyperparameter_tuning_recall\")\n",
    "\n",
    "# Optuna study\n",
    "study = optuna.create_study(direction='maximize')\n",
    "study.optimize(objective, n_trials=100)\n",
    "\n",
    "# End the active run before logging the best parameters and model\n",
    "mlflow.end_run()\n",
    "\n",
    "# Log the best parameters and model\n",
    "with mlflow.start_run():\n",
    "    best_params = study.best_params\n",
    "    mlflow.log_params(best_params)\n",
    "\n",
    "    best_dt_model = DecisionTreeClassifier(**best_params)\n",
    "    best_dt_model.fit(X_train, y_train)\n",
    "\n",
    "    # Log the best model\n",
    "    mlflow.sklearn.log_model(best_dt_model, \"decision_tree_model\")\n",
    "\n"
   ]
  },
  {
   "cell_type": "code",
   "execution_count": 25,
   "id": "5ef6a0f7",
   "metadata": {},
   "outputs": [
    {
     "name": "stderr",
     "output_type": "stream",
     "text": [
      "[I 2023-12-19 11:43:51,471] A new study created in memory with name: no-name-ca5bf149-e38f-4805-9a93-7d792048b22a\n",
      "[I 2023-12-19 11:43:53,449] Trial 0 finished with value: 0.9235993208828522 and parameters: {'booster': 'gbtree', 'max_depth': 1, 'learning_rate': 0.012232774138634394, 'subsample': 0.6160924570671653, 'colsample_bytree': 0.9834917317999247, 'gamma': 0.7839711848737682}. Best is trial 0 with value: 0.9235993208828522.\n",
      "[I 2023-12-19 11:45:22,074] Trial 1 finished with value: 0.9473684210526315 and parameters: {'booster': 'dart', 'max_depth': 6, 'learning_rate': 0.014685901707503474, 'subsample': 0.8153224228096361, 'colsample_bytree': 0.570048748706728, 'gamma': 0.6958991560970811}. Best is trial 1 with value: 0.9473684210526315.\n",
      "[I 2023-12-19 11:45:25,352] Trial 2 finished with value: 0.9405772495755518 and parameters: {'booster': 'gbtree', 'max_depth': 9, 'learning_rate': 0.021084070517431924, 'subsample': 0.8380909165622664, 'colsample_bytree': 0.2367987938585752, 'gamma': 0.8925093439275008}. Best is trial 1 with value: 0.9473684210526315.\n",
      "c:\\Users\\awscl\\.conda\\envs\\ML\\Lib\\site-packages\\xgboost\\core.py:160: UserWarning: [11:45:25] WARNING: C:\\buildkite-agent\\builds\\buildkite-windows-cpu-autoscaling-group-i-0750514818a16474a-1\\xgboost\\xgboost-ci-windows\\src\\learner.cc:742: \n",
      "Parameters: { \"colsample_bytree\", \"gamma\", \"max_depth\", \"subsample\" } are not used.\n",
      "\n",
      "  warnings.warn(smsg, UserWarning)\n",
      "[I 2023-12-19 11:45:27,570] Trial 3 finished with value: 0.8607809847198642 and parameters: {'booster': 'gblinear', 'max_depth': 8, 'learning_rate': 0.03645669552431723, 'subsample': 0.22344706708317918, 'colsample_bytree': 0.629254156239944, 'gamma': 0.31272787115340983}. Best is trial 1 with value: 0.9473684210526315.\n",
      "[I 2023-12-19 11:46:52,301] Trial 4 finished with value: 0.9490662139219015 and parameters: {'booster': 'dart', 'max_depth': 4, 'learning_rate': 0.01013377973980718, 'subsample': 0.8278678486226873, 'colsample_bytree': 0.9813424123048552, 'gamma': 0.2908355762667777}. Best is trial 4 with value: 0.9490662139219015.\n",
      "[I 2023-12-19 11:46:55,013] Trial 5 finished with value: 0.9388794567062818 and parameters: {'booster': 'gbtree', 'max_depth': 7, 'learning_rate': 0.039554179029940364, 'subsample': 0.18788981568757585, 'colsample_bytree': 0.21295770541220835, 'gamma': 0.2632177186317808}. Best is trial 4 with value: 0.9490662139219015.\n",
      "c:\\Users\\awscl\\.conda\\envs\\ML\\Lib\\site-packages\\xgboost\\core.py:160: UserWarning: [11:46:55] WARNING: C:\\buildkite-agent\\builds\\buildkite-windows-cpu-autoscaling-group-i-0750514818a16474a-1\\xgboost\\xgboost-ci-windows\\src\\learner.cc:742: \n",
      "Parameters: { \"colsample_bytree\", \"gamma\", \"max_depth\", \"subsample\" } are not used.\n",
      "\n",
      "  warnings.warn(smsg, UserWarning)\n",
      "[I 2023-12-19 11:46:56,515] Trial 6 finished with value: 0.8692699490662139 and parameters: {'booster': 'gblinear', 'max_depth': 1, 'learning_rate': 0.01194736501651018, 'subsample': 0.825958907198032, 'colsample_bytree': 0.7505521575973539, 'gamma': 0.874604387506359}. Best is trial 4 with value: 0.9490662139219015.\n",
      "[I 2023-12-19 11:46:58,751] Trial 7 finished with value: 0.9439728353140917 and parameters: {'booster': 'gbtree', 'max_depth': 5, 'learning_rate': 0.015351324174136337, 'subsample': 0.8534699349190197, 'colsample_bytree': 0.7493924565244467, 'gamma': 0.6388886524106624}. Best is trial 4 with value: 0.9490662139219015.\n",
      "[I 2023-12-19 11:48:12,346] Trial 8 finished with value: 0.9134125636672326 and parameters: {'booster': 'dart', 'max_depth': 1, 'learning_rate': 0.06831083341409978, 'subsample': 0.7676926651904268, 'colsample_bytree': 0.2653898580773237, 'gamma': 0.1334857751269628}. Best is trial 4 with value: 0.9490662139219015.\n",
      "c:\\Users\\awscl\\.conda\\envs\\ML\\Lib\\site-packages\\xgboost\\core.py:160: UserWarning: [11:48:12] WARNING: C:\\buildkite-agent\\builds\\buildkite-windows-cpu-autoscaling-group-i-0750514818a16474a-1\\xgboost\\xgboost-ci-windows\\src\\learner.cc:742: \n",
      "Parameters: { \"colsample_bytree\", \"gamma\", \"max_depth\", \"subsample\" } are not used.\n",
      "\n",
      "  warnings.warn(smsg, UserWarning)\n",
      "[I 2023-12-19 11:48:14,136] Trial 9 finished with value: 0.8675721561969439 and parameters: {'booster': 'gblinear', 'max_depth': 9, 'learning_rate': 0.09768057588169295, 'subsample': 0.34976218440400575, 'colsample_bytree': 0.4633156585618884, 'gamma': 0.2882997803650924}. Best is trial 4 with value: 0.9490662139219015.\n",
      "[I 2023-12-19 11:49:43,589] Trial 10 finished with value: 0.9541595925297114 and parameters: {'booster': 'dart', 'max_depth': 4, 'learning_rate': 0.06574157775071804, 'subsample': 0.5367096124882259, 'colsample_bytree': 0.9626073411231061, 'gamma': 0.519854989603573}. Best is trial 10 with value: 0.9541595925297114.\n",
      "[I 2023-12-19 11:51:06,169] Trial 11 finished with value: 0.9524617996604414 and parameters: {'booster': 'dart', 'max_depth': 4, 'learning_rate': 0.06730546640834677, 'subsample': 0.5235130221541571, 'colsample_bytree': 0.9888644650713865, 'gamma': 0.4983219861551755}. Best is trial 10 with value: 0.9541595925297114.\n",
      "[I 2023-12-19 11:52:30,785] Trial 12 finished with value: 0.9405772495755518 and parameters: {'booster': 'dart', 'max_depth': 3, 'learning_rate': 0.0688048160967496, 'subsample': 0.4855025858358837, 'colsample_bytree': 0.8762127757503535, 'gamma': 0.5167976840911573}. Best is trial 10 with value: 0.9541595925297114.\n",
      "[I 2023-12-19 11:53:50,563] Trial 13 finished with value: 0.9388794567062818 and parameters: {'booster': 'dart', 'max_depth': 3, 'learning_rate': 0.06790649057609247, 'subsample': 0.555801185224806, 'colsample_bytree': 0.8442158258626518, 'gamma': 0.4642425900553303}. Best is trial 10 with value: 0.9541595925297114.\n",
      "[I 2023-12-19 11:55:17,958] Trial 14 finished with value: 0.9439728353140917 and parameters: {'booster': 'dart', 'max_depth': 4, 'learning_rate': 0.08689518477327893, 'subsample': 0.4158313470943532, 'colsample_bytree': 0.4098928199615879, 'gamma': 0.5027367434580602}. Best is trial 10 with value: 0.9541595925297114.\n",
      "[I 2023-12-19 11:56:41,407] Trial 15 finished with value: 0.966044142614601 and parameters: {'booster': 'dart', 'max_depth': 6, 'learning_rate': 0.05750561920267149, 'subsample': 0.6533316977131925, 'colsample_bytree': 0.8528579618909954, 'gamma': 0.5888055863636128}. Best is trial 15 with value: 0.966044142614601.\n",
      "[I 2023-12-19 11:58:13,599] Trial 16 finished with value: 0.9541595925297114 and parameters: {'booster': 'dart', 'max_depth': 6, 'learning_rate': 0.054149218784848185, 'subsample': 0.6583929982577603, 'colsample_bytree': 0.7101399786173924, 'gamma': 0.007569711846398652}. Best is trial 15 with value: 0.966044142614601.\n",
      "[I 2023-12-19 11:59:43,285] Trial 17 finished with value: 0.9711375212224108 and parameters: {'booster': 'dart', 'max_depth': 7, 'learning_rate': 0.04891778479677488, 'subsample': 0.6890169859144353, 'colsample_bytree': 0.8687821752097697, 'gamma': 0.5879331603054695}. Best is trial 17 with value: 0.9711375212224108.\n",
      "[I 2023-12-19 12:01:10,100] Trial 18 finished with value: 0.9779286926994907 and parameters: {'booster': 'dart', 'max_depth': 10, 'learning_rate': 0.048934995990445596, 'subsample': 0.6897016081155501, 'colsample_bytree': 0.7909728692453679, 'gamma': 0.6602957408111477}. Best is trial 18 with value: 0.9779286926994907.\n",
      "c:\\Users\\awscl\\.conda\\envs\\ML\\Lib\\site-packages\\xgboost\\core.py:160: UserWarning: [12:01:10] WARNING: C:\\buildkite-agent\\builds\\buildkite-windows-cpu-autoscaling-group-i-0750514818a16474a-1\\xgboost\\xgboost-ci-windows\\src\\learner.cc:742: \n",
      "Parameters: { \"colsample_bytree\", \"gamma\", \"max_depth\", \"subsample\" } are not used.\n",
      "\n",
      "  warnings.warn(smsg, UserWarning)\n",
      "[I 2023-12-19 12:01:11,792] Trial 19 finished with value: 0.8624787775891342 and parameters: {'booster': 'gblinear', 'max_depth': 10, 'learning_rate': 0.04022065361814921, 'subsample': 0.9919330866279732, 'colsample_bytree': 0.6614396366006748, 'gamma': 0.7588517350727291}. Best is trial 18 with value: 0.9779286926994907.\n",
      "[I 2023-12-19 12:02:38,602] Trial 20 finished with value: 0.9371816638370118 and parameters: {'booster': 'dart', 'max_depth': 10, 'learning_rate': 0.02719541807745587, 'subsample': 0.7365052154012658, 'colsample_bytree': 0.11071640964851798, 'gamma': 0.3804441163563561}. Best is trial 18 with value: 0.9779286926994907.\n",
      "[I 2023-12-19 12:04:01,464] Trial 21 finished with value: 0.969439728353141 and parameters: {'booster': 'dart', 'max_depth': 7, 'learning_rate': 0.051894735839143856, 'subsample': 0.667511299477525, 'colsample_bytree': 0.8412405793745025, 'gamma': 0.606811717204512}. Best is trial 18 with value: 0.9779286926994907.\n",
      "[I 2023-12-19 12:05:25,985] Trial 22 finished with value: 0.9728353140916808 and parameters: {'booster': 'dart', 'max_depth': 8, 'learning_rate': 0.0443060877924186, 'subsample': 0.9590276484682376, 'colsample_bytree': 0.8053821556175438, 'gamma': 0.6964943899236089}. Best is trial 18 with value: 0.9779286926994907.\n",
      "[I 2023-12-19 12:06:55,129] Trial 23 finished with value: 0.967741935483871 and parameters: {'booster': 'dart', 'max_depth': 8, 'learning_rate': 0.03077603473430126, 'subsample': 0.9888250012375011, 'colsample_bytree': 0.7917334484323122, 'gamma': 0.7811373931860744}. Best is trial 18 with value: 0.9779286926994907.\n",
      "[I 2023-12-19 12:08:25,580] Trial 24 finished with value: 0.9796264855687606 and parameters: {'booster': 'dart', 'max_depth': 9, 'learning_rate': 0.04464826777554597, 'subsample': 0.9212120010796463, 'colsample_bytree': 0.9033451313419651, 'gamma': 0.98472555195407}. Best is trial 24 with value: 0.9796264855687606.\n",
      "[I 2023-12-19 12:09:57,234] Trial 25 finished with value: 0.9762308998302207 and parameters: {'booster': 'dart', 'max_depth': 9, 'learning_rate': 0.04795331966634899, 'subsample': 0.92088914899946, 'colsample_bytree': 0.9182295588354286, 'gamma': 0.9609567513343231}. Best is trial 24 with value: 0.9796264855687606.\n",
      "[I 2023-12-19 12:11:26,052] Trial 26 finished with value: 0.9745331069609507 and parameters: {'booster': 'dart', 'max_depth': 9, 'learning_rate': 0.07824408523972194, 'subsample': 0.9095684410697931, 'colsample_bytree': 0.9233909242083513, 'gamma': 0.9852286847431366}. Best is trial 24 with value: 0.9796264855687606.\n",
      "[I 2023-12-19 12:12:54,060] Trial 27 finished with value: 0.9796264855687606 and parameters: {'booster': 'dart', 'max_depth': 10, 'learning_rate': 0.06081977581821717, 'subsample': 0.908322853573069, 'colsample_bytree': 0.9091728948278889, 'gamma': 0.9809285658980773}. Best is trial 24 with value: 0.9796264855687606.\n",
      "[I 2023-12-19 12:12:58,154] Trial 28 finished with value: 0.9813242784380306 and parameters: {'booster': 'gbtree', 'max_depth': 10, 'learning_rate': 0.07859367498891957, 'subsample': 0.7412773728210467, 'colsample_bytree': 0.6648520410927469, 'gamma': 0.8850895640851946}. Best is trial 28 with value: 0.9813242784380306.\n",
      "[I 2023-12-19 12:13:01,422] Trial 29 finished with value: 0.9422750424448217 and parameters: {'booster': 'gbtree', 'max_depth': 10, 'learning_rate': 0.0018485004383106338, 'subsample': 0.8922790300676575, 'colsample_bytree': 0.47284616709593463, 'gamma': 0.8812065182716121}. Best is trial 28 with value: 0.9813242784380306.\n",
      "[I 2023-12-19 12:13:05,085] Trial 30 finished with value: 0.9796264855687606 and parameters: {'booster': 'gbtree', 'max_depth': 9, 'learning_rate': 0.08389592868813547, 'subsample': 0.7696961693061192, 'colsample_bytree': 0.5822712438122718, 'gamma': 0.9273671145045228}. Best is trial 28 with value: 0.9813242784380306.\n",
      "[I 2023-12-19 12:13:08,340] Trial 31 finished with value: 0.9796264855687606 and parameters: {'booster': 'gbtree', 'max_depth': 9, 'learning_rate': 0.07876561528272291, 'subsample': 0.7514037280142208, 'colsample_bytree': 0.5917877597844365, 'gamma': 0.9319944817224868}. Best is trial 28 with value: 0.9813242784380306.\n",
      "[I 2023-12-19 12:13:12,524] Trial 32 finished with value: 0.9779286926994907 and parameters: {'booster': 'gbtree', 'max_depth': 10, 'learning_rate': 0.09366393821712732, 'subsample': 0.7820447515006058, 'colsample_bytree': 0.52510562497937, 'gamma': 0.8393370070519253}. Best is trial 28 with value: 0.9813242784380306.\n",
      "[I 2023-12-19 12:13:16,192] Trial 33 finished with value: 0.9813242784380306 and parameters: {'booster': 'gbtree', 'max_depth': 8, 'learning_rate': 0.08174270852597089, 'subsample': 0.8876276374877093, 'colsample_bytree': 0.6800247463462314, 'gamma': 0.9948761759988618}. Best is trial 28 with value: 0.9813242784380306.\n",
      "[I 2023-12-19 12:13:19,039] Trial 34 finished with value: 0.9728353140916808 and parameters: {'booster': 'gbtree', 'max_depth': 8, 'learning_rate': 0.058448704582928, 'subsample': 0.8815347615954641, 'colsample_bytree': 0.6531507998201515, 'gamma': 0.9962929077434234}. Best is trial 28 with value: 0.9813242784380306.\n",
      "[I 2023-12-19 12:13:22,801] Trial 35 finished with value: 0.9728353140916808 and parameters: {'booster': 'gbtree', 'max_depth': 8, 'learning_rate': 0.0744161187652523, 'subsample': 0.939448296913462, 'colsample_bytree': 0.7095851477536474, 'gamma': 0.8450466450136128}. Best is trial 28 with value: 0.9813242784380306.\n",
      "[I 2023-12-19 12:13:26,133] Trial 36 finished with value: 0.9779286926994907 and parameters: {'booster': 'gbtree', 'max_depth': 10, 'learning_rate': 0.08803230952599349, 'subsample': 0.8582527826304991, 'colsample_bytree': 0.9159100098246034, 'gamma': 0.7959881250854495}. Best is trial 28 with value: 0.9813242784380306.\n",
      "[I 2023-12-19 12:13:29,941] Trial 37 finished with value: 0.9558573853989814 and parameters: {'booster': 'gbtree', 'max_depth': 9, 'learning_rate': 0.05932212435215306, 'subsample': 0.8037335403136738, 'colsample_bytree': 0.3687701807940129, 'gamma': 0.9278086972065276}. Best is trial 28 with value: 0.9813242784380306.\n",
      "[I 2023-12-19 12:13:33,007] Trial 38 finished with value: 0.9626485568760611 and parameters: {'booster': 'gbtree', 'max_depth': 8, 'learning_rate': 0.0745586876580102, 'subsample': 0.1211644672174601, 'colsample_bytree': 0.7108615272626271, 'gamma': 0.823717086825329}. Best is trial 28 with value: 0.9813242784380306.\n",
      "c:\\Users\\awscl\\.conda\\envs\\ML\\Lib\\site-packages\\xgboost\\core.py:160: UserWarning: [12:13:33] WARNING: C:\\buildkite-agent\\builds\\buildkite-windows-cpu-autoscaling-group-i-0750514818a16474a-1\\xgboost\\xgboost-ci-windows\\src\\learner.cc:742: \n",
      "Parameters: { \"colsample_bytree\", \"gamma\", \"max_depth\", \"subsample\" } are not used.\n",
      "\n",
      "  warnings.warn(smsg, UserWarning)\n",
      "[I 2023-12-19 12:13:35,069] Trial 39 finished with value: 0.865874363327674 and parameters: {'booster': 'gblinear', 'max_depth': 7, 'learning_rate': 0.06273716299515902, 'subsample': 0.6048011172166154, 'colsample_bytree': 0.522367778953397, 'gamma': 0.7443023192072922}. Best is trial 28 with value: 0.9813242784380306.\n",
      "[I 2023-12-19 12:13:38,229] Trial 40 finished with value: 0.9643463497453311 and parameters: {'booster': 'gbtree', 'max_depth': 9, 'learning_rate': 0.03281154477937893, 'subsample': 0.8586352222776523, 'colsample_bytree': 0.6214379307556102, 'gamma': 0.9016426737759029}. Best is trial 28 with value: 0.9813242784380306.\n",
      "[I 2023-12-19 12:13:42,214] Trial 41 finished with value: 0.9796264855687606 and parameters: {'booster': 'gbtree', 'max_depth': 10, 'learning_rate': 0.08509639981421722, 'subsample': 0.7374524938188458, 'colsample_bytree': 0.5699172876256923, 'gamma': 0.9310439728449504}. Best is trial 28 with value: 0.9813242784380306.\n",
      "[I 2023-12-19 12:13:45,453] Trial 42 finished with value: 0.9762308998302207 and parameters: {'booster': 'gbtree', 'max_depth': 9, 'learning_rate': 0.08213667177819965, 'subsample': 0.824973701844917, 'colsample_bytree': 0.678436003757986, 'gamma': 0.9933858034294387}. Best is trial 28 with value: 0.9813242784380306.\n",
      "[I 2023-12-19 12:13:49,118] Trial 43 finished with value: 0.9762308998302207 and parameters: {'booster': 'gbtree', 'max_depth': 10, 'learning_rate': 0.09264985372339608, 'subsample': 0.950745894563677, 'colsample_bytree': 0.598497251971169, 'gamma': 0.8844521380917862}. Best is trial 28 with value: 0.9813242784380306.\n",
      "[I 2023-12-19 12:13:52,752] Trial 44 finished with value: 0.9813242784380306 and parameters: {'booster': 'gbtree', 'max_depth': 9, 'learning_rate': 0.07348656205128203, 'subsample': 0.7964510630586754, 'colsample_bytree': 0.767338511669394, 'gamma': 0.9537500692871912}. Best is trial 28 with value: 0.9813242784380306.\n",
      "c:\\Users\\awscl\\.conda\\envs\\ML\\Lib\\site-packages\\xgboost\\core.py:160: UserWarning: [12:13:52] WARNING: C:\\buildkite-agent\\builds\\buildkite-windows-cpu-autoscaling-group-i-0750514818a16474a-1\\xgboost\\xgboost-ci-windows\\src\\learner.cc:742: \n",
      "Parameters: { \"colsample_bytree\", \"gamma\", \"max_depth\", \"subsample\" } are not used.\n",
      "\n",
      "  warnings.warn(smsg, UserWarning)\n",
      "[I 2023-12-19 12:13:54,453] Trial 45 finished with value: 0.8675721561969439 and parameters: {'booster': 'gblinear', 'max_depth': 8, 'learning_rate': 0.0737231321382945, 'subsample': 0.8826298660523751, 'colsample_bytree': 0.767608075961141, 'gamma': 0.9494766402928798}. Best is trial 28 with value: 0.9813242784380306.\n",
      "[I 2023-12-19 12:13:57,663] Trial 46 finished with value: 0.9830220713073005 and parameters: {'booster': 'gbtree', 'max_depth': 9, 'learning_rate': 0.07168647534959553, 'subsample': 0.8053534400806969, 'colsample_bytree': 0.9520950630234499, 'gamma': 0.999225588372157}. Best is trial 46 with value: 0.9830220713073005.\n",
      "[I 2023-12-19 12:14:01,258] Trial 47 finished with value: 0.9779286926994907 and parameters: {'booster': 'gbtree', 'max_depth': 9, 'learning_rate': 0.09030586852021064, 'subsample': 0.7207313291101678, 'colsample_bytree': 0.9976613088294545, 'gamma': 0.8506190460265123}. Best is trial 46 with value: 0.9830220713073005.\n",
      "[I 2023-12-19 12:14:04,089] Trial 48 finished with value: 0.9728353140916808 and parameters: {'booster': 'gbtree', 'max_depth': 7, 'learning_rate': 0.07132376391758279, 'subsample': 0.5911462109448451, 'colsample_bytree': 0.7474836638398314, 'gamma': 0.9009418906253585}. Best is trial 46 with value: 0.9830220713073005.\n",
      "[I 2023-12-19 12:14:07,259] Trial 49 finished with value: 0.9762308998302207 and parameters: {'booster': 'gbtree', 'max_depth': 8, 'learning_rate': 0.07887788007027205, 'subsample': 0.8011208129075186, 'colsample_bytree': 0.9365034598132116, 'gamma': 0.9963997021946488}. Best is trial 46 with value: 0.9830220713073005.\n",
      "[I 2023-12-19 12:14:09,658] Trial 50 finished with value: 0.9490662139219015 and parameters: {'booster': 'gbtree', 'max_depth': 5, 'learning_rate': 0.06378436023520694, 'subsample': 0.3318507870077666, 'colsample_bytree': 0.8246161765775996, 'gamma': 0.8683442637309692}. Best is trial 46 with value: 0.9830220713073005.\n",
      "[I 2023-12-19 12:14:13,399] Trial 51 finished with value: 0.9830220713073005 and parameters: {'booster': 'gbtree', 'max_depth': 9, 'learning_rate': 0.07071355128441345, 'subsample': 0.8457286085289779, 'colsample_bytree': 0.8917103450475024, 'gamma': 0.9431458835181425}. Best is trial 46 with value: 0.9830220713073005.\n",
      "[I 2023-12-19 12:14:17,041] Trial 52 finished with value: 0.9779286926994907 and parameters: {'booster': 'gbtree', 'max_depth': 9, 'learning_rate': 0.09625192907668065, 'subsample': 0.8450664807800814, 'colsample_bytree': 0.9595776235562843, 'gamma': 0.9536732722088369}. Best is trial 46 with value: 0.9830220713073005.\n",
      "[I 2023-12-19 12:14:20,886] Trial 53 finished with value: 0.9830220713073005 and parameters: {'booster': 'gbtree', 'max_depth': 9, 'learning_rate': 0.07081079720829943, 'subsample': 0.7920940206713315, 'colsample_bytree': 0.8906873835516826, 'gamma': 0.7998485402731133}. Best is trial 46 with value: 0.9830220713073005.\n",
      "[I 2023-12-19 12:14:24,510] Trial 54 finished with value: 0.9779286926994907 and parameters: {'booster': 'gbtree', 'max_depth': 8, 'learning_rate': 0.07049665219508891, 'subsample': 0.6988074430061231, 'colsample_bytree': 0.8692145615121757, 'gamma': 0.8273939613254364}. Best is trial 46 with value: 0.9830220713073005.\n",
      "[I 2023-12-19 12:14:27,839] Trial 55 finished with value: 0.9779286926994907 and parameters: {'booster': 'gbtree', 'max_depth': 10, 'learning_rate': 0.08145431120656105, 'subsample': 0.7905575168228676, 'colsample_bytree': 0.7399056799855341, 'gamma': 0.7266062386291154}. Best is trial 46 with value: 0.9830220713073005.\n",
      "[I 2023-12-19 12:14:31,536] Trial 56 finished with value: 0.9745331069609507 and parameters: {'booster': 'gbtree', 'max_depth': 8, 'learning_rate': 0.07665996853953795, 'subsample': 0.8476719871213088, 'colsample_bytree': 0.9555210457177058, 'gamma': 0.8043471604817387}. Best is trial 46 with value: 0.9830220713073005.\n",
      "[I 2023-12-19 12:14:33,332] Trial 57 finished with value: 0.9354838709677419 and parameters: {'booster': 'gbtree', 'max_depth': 2, 'learning_rate': 0.06741605550926069, 'subsample': 0.823463372696908, 'colsample_bytree': 0.8142058700517851, 'gamma': 0.9035905300655926}. Best is trial 46 with value: 0.9830220713073005.\n",
      "[I 2023-12-19 12:14:36,975] Trial 58 finished with value: 0.9779286926994907 and parameters: {'booster': 'gbtree', 'max_depth': 9, 'learning_rate': 0.09980078904850678, 'subsample': 0.6495555791183816, 'colsample_bytree': 0.8787694532097706, 'gamma': 0.7778244436956059}. Best is trial 46 with value: 0.9830220713073005.\n",
      "[I 2023-12-19 12:14:39,629] Trial 59 finished with value: 0.966044142614601 and parameters: {'booster': 'gbtree', 'max_depth': 7, 'learning_rate': 0.056007370163256964, 'subsample': 0.720212218802607, 'colsample_bytree': 0.7797232219853392, 'gamma': 0.37370524421783713}. Best is trial 46 with value: 0.9830220713073005.\n",
      "c:\\Users\\awscl\\.conda\\envs\\ML\\Lib\\site-packages\\xgboost\\core.py:160: UserWarning: [12:14:39] WARNING: C:\\buildkite-agent\\builds\\buildkite-windows-cpu-autoscaling-group-i-0750514818a16474a-1\\xgboost\\xgboost-ci-windows\\src\\learner.cc:742: \n",
      "Parameters: { \"colsample_bytree\", \"gamma\", \"max_depth\", \"subsample\" } are not used.\n",
      "\n",
      "  warnings.warn(smsg, UserWarning)\n",
      "[I 2023-12-19 12:14:41,340] Trial 60 finished with value: 0.8675721561969439 and parameters: {'booster': 'gblinear', 'max_depth': 9, 'learning_rate': 0.06408210049991608, 'subsample': 0.754539599890377, 'colsample_bytree': 0.6816926632042638, 'gamma': 0.9524757732036471}. Best is trial 46 with value: 0.9830220713073005.\n",
      "[I 2023-12-19 12:14:45,398] Trial 61 finished with value: 0.9745331069609507 and parameters: {'booster': 'gbtree', 'max_depth': 10, 'learning_rate': 0.07145151613418128, 'subsample': 0.9746234524878135, 'colsample_bytree': 0.8874123304097558, 'gamma': 0.20533564823411155}. Best is trial 46 with value: 0.9830220713073005.\n",
      "[I 2023-12-19 12:14:49,491] Trial 62 finished with value: 0.9796264855687606 and parameters: {'booster': 'gbtree', 'max_depth': 9, 'learning_rate': 0.04395194482604096, 'subsample': 0.9301011680928879, 'colsample_bytree': 0.846622581091702, 'gamma': 0.9633153353483522}. Best is trial 46 with value: 0.9830220713073005.\n",
      "[I 2023-12-19 12:14:52,866] Trial 63 finished with value: 0.9796264855687606 and parameters: {'booster': 'gbtree', 'max_depth': 10, 'learning_rate': 0.0802391563431996, 'subsample': 0.8705811452163943, 'colsample_bytree': 0.9792646566322405, 'gamma': 0.9125435213317339}. Best is trial 46 with value: 0.9830220713073005.\n",
      "[I 2023-12-19 12:14:56,757] Trial 64 finished with value: 0.9796264855687606 and parameters: {'booster': 'gbtree', 'max_depth': 9, 'learning_rate': 0.05379345042684096, 'subsample': 0.8127148831128017, 'colsample_bytree': 0.9038134498030378, 'gamma': 0.8777890521529081}. Best is trial 46 with value: 0.9830220713073005.\n",
      "c:\\Users\\awscl\\.conda\\envs\\ML\\Lib\\site-packages\\xgboost\\core.py:160: UserWarning: [12:14:56] WARNING: C:\\buildkite-agent\\builds\\buildkite-windows-cpu-autoscaling-group-i-0750514818a16474a-1\\xgboost\\xgboost-ci-windows\\src\\learner.cc:742: \n",
      "Parameters: { \"colsample_bytree\", \"gamma\", \"max_depth\", \"subsample\" } are not used.\n",
      "\n",
      "  warnings.warn(smsg, UserWarning)\n",
      "[I 2023-12-19 12:14:58,369] Trial 65 finished with value: 0.8675721561969439 and parameters: {'booster': 'gblinear', 'max_depth': 8, 'learning_rate': 0.07625303833183851, 'subsample': 0.9025876791726035, 'colsample_bytree': 0.8234951984567279, 'gamma': 0.9662398098093175}. Best is trial 46 with value: 0.9830220713073005.\n",
      "[I 2023-12-19 12:15:01,988] Trial 66 finished with value: 0.9779286926994907 and parameters: {'booster': 'gbtree', 'max_depth': 9, 'learning_rate': 0.08535586042068888, 'subsample': 0.4729479322700746, 'colsample_bytree': 0.948180859540765, 'gamma': 0.8659909408088897}. Best is trial 46 with value: 0.9830220713073005.\n",
      "[I 2023-12-19 12:15:05,391] Trial 67 finished with value: 0.9728353140916808 and parameters: {'booster': 'gbtree', 'max_depth': 10, 'learning_rate': 0.0394911942884002, 'subsample': 0.7717946402099288, 'colsample_bytree': 0.6352417039897339, 'gamma': 0.9332992022786873}. Best is trial 46 with value: 0.9830220713073005.\n",
      "[I 2023-12-19 12:15:08,558] Trial 68 finished with value: 0.967741935483871 and parameters: {'booster': 'gbtree', 'max_depth': 6, 'learning_rate': 0.08819306180539628, 'subsample': 0.9607064730186348, 'colsample_bytree': 0.71348583546277, 'gamma': 0.9997482879337602}. Best is trial 46 with value: 0.9830220713073005.\n",
      "[I 2023-12-19 12:16:29,129] Trial 69 finished with value: 0.9796264855687606 and parameters: {'booster': 'dart', 'max_depth': 9, 'learning_rate': 0.0725192366276679, 'subsample': 0.927227183545753, 'colsample_bytree': 0.8967097240347081, 'gamma': 0.7091075481554272}. Best is trial 46 with value: 0.9830220713073005.\n",
      "[I 2023-12-19 12:16:33,367] Trial 70 finished with value: 0.9779286926994907 and parameters: {'booster': 'gbtree', 'max_depth': 8, 'learning_rate': 0.06634866668875958, 'subsample': 0.6289552170988719, 'colsample_bytree': 0.8657806307307664, 'gamma': 0.029876283323409525}. Best is trial 46 with value: 0.9830220713073005.\n",
      "[I 2023-12-19 12:17:54,470] Trial 71 finished with value: 0.9745331069609507 and parameters: {'booster': 'dart', 'max_depth': 10, 'learning_rate': 0.06902198470020816, 'subsample': 0.9005668201820884, 'colsample_bytree': 0.9283863580911507, 'gamma': 0.9774532906345766}. Best is trial 46 with value: 0.9830220713073005.\n",
      "[I 2023-12-19 12:19:17,808] Trial 72 finished with value: 0.9796264855687606 and parameters: {'booster': 'dart', 'max_depth': 10, 'learning_rate': 0.060840050920276875, 'subsample': 0.8343396176265022, 'colsample_bytree': 0.8386471536668042, 'gamma': 0.9182981480122707}. Best is trial 46 with value: 0.9830220713073005.\n",
      "[I 2023-12-19 12:20:38,330] Trial 73 finished with value: 0.9796264855687606 and parameters: {'booster': 'dart', 'max_depth': 9, 'learning_rate': 0.06252931788730924, 'subsample': 0.9906000263050116, 'colsample_bytree': 0.9798623806898425, 'gamma': 0.9638998148938278}. Best is trial 46 with value: 0.9830220713073005.\n",
      "[I 2023-12-19 12:22:01,730] Trial 74 finished with value: 0.9796264855687606 and parameters: {'booster': 'dart', 'max_depth': 10, 'learning_rate': 0.07589549519461963, 'subsample': 0.8759676153807381, 'colsample_bytree': 0.9035766894526001, 'gamma': 0.9395538951544877}. Best is trial 46 with value: 0.9830220713073005.\n",
      "[I 2023-12-19 12:23:21,655] Trial 75 finished with value: 0.9779286926994907 and parameters: {'booster': 'dart', 'max_depth': 9, 'learning_rate': 0.04558352396123005, 'subsample': 0.7881506820324393, 'colsample_bytree': 0.76342295315171, 'gamma': 0.669248845821319}. Best is trial 46 with value: 0.9830220713073005.\n",
      "[I 2023-12-19 12:24:43,450] Trial 76 finished with value: 0.9779286926994907 and parameters: {'booster': 'dart', 'max_depth': 10, 'learning_rate': 0.08246060074635783, 'subsample': 0.9152370043380051, 'colsample_bytree': 0.7964377719640068, 'gamma': 0.8962112482647191}. Best is trial 46 with value: 0.9830220713073005.\n",
      "[I 2023-12-19 12:24:47,557] Trial 77 finished with value: 0.9779286926994907 and parameters: {'booster': 'gbtree', 'max_depth': 9, 'learning_rate': 0.07299544743654135, 'subsample': 0.8605121551577751, 'colsample_bytree': 0.726737328166201, 'gamma': 0.8203811564227415}. Best is trial 46 with value: 0.9830220713073005.\n",
      "[I 2023-12-19 12:24:49,762] Trial 78 finished with value: 0.9524617996604414 and parameters: {'booster': 'gbtree', 'max_depth': 5, 'learning_rate': 0.0686724311208938, 'subsample': 0.8303251055864684, 'colsample_bytree': 0.6785896142806732, 'gamma': 0.8541385205891682}. Best is trial 46 with value: 0.9830220713073005.\n",
      "c:\\Users\\awscl\\.conda\\envs\\ML\\Lib\\site-packages\\xgboost\\core.py:160: UserWarning: [12:24:49] WARNING: C:\\buildkite-agent\\builds\\buildkite-windows-cpu-autoscaling-group-i-0750514818a16474a-1\\xgboost\\xgboost-ci-windows\\src\\learner.cc:742: \n",
      "Parameters: { \"colsample_bytree\", \"gamma\", \"max_depth\", \"subsample\" } are not used.\n",
      "\n",
      "  warnings.warn(smsg, UserWarning)\n",
      "[I 2023-12-19 12:24:51,449] Trial 79 finished with value: 0.8675721561969439 and parameters: {'booster': 'gblinear', 'max_depth': 8, 'learning_rate': 0.06584859431481548, 'subsample': 0.9413940448322037, 'colsample_bytree': 0.8601258197470698, 'gamma': 0.9811370654552543}. Best is trial 46 with value: 0.9830220713073005.\n",
      "[I 2023-12-19 12:26:14,167] Trial 80 finished with value: 0.9796264855687606 and parameters: {'booster': 'dart', 'max_depth': 10, 'learning_rate': 0.05968174527445938, 'subsample': 0.7082782464642678, 'colsample_bytree': 0.9208260192504911, 'gamma': 0.4507866226647216}. Best is trial 46 with value: 0.9830220713073005.\n",
      "[I 2023-12-19 12:26:17,781] Trial 81 finished with value: 0.9830220713073005 and parameters: {'booster': 'gbtree', 'max_depth': 9, 'learning_rate': 0.08287528317343254, 'subsample': 0.7690426082575037, 'colsample_bytree': 0.5413022088895325, 'gamma': 0.9264693629181034}. Best is trial 46 with value: 0.9830220713073005.\n",
      "[I 2023-12-19 12:26:21,476] Trial 82 finished with value: 0.9728353140916808 and parameters: {'booster': 'gbtree', 'max_depth': 9, 'learning_rate': 0.07840273118405292, 'subsample': 0.7922374574333199, 'colsample_bytree': 0.5341719264663574, 'gamma': 0.9992576562644879}. Best is trial 46 with value: 0.9830220713073005.\n",
      "[I 2023-12-19 12:26:25,440] Trial 83 finished with value: 0.9813242784380306 and parameters: {'booster': 'gbtree', 'max_depth': 9, 'learning_rate': 0.0837451754402479, 'subsample': 0.7466987380606319, 'colsample_bytree': 0.5004697696084622, 'gamma': 0.9197328982217265}. Best is trial 46 with value: 0.9830220713073005.\n",
      "[I 2023-12-19 12:26:28,218] Trial 84 finished with value: 0.9609507640067911 and parameters: {'booster': 'gbtree', 'max_depth': 8, 'learning_rate': 0.09092822543742039, 'subsample': 0.7471320231199479, 'colsample_bytree': 0.4633025760269805, 'gamma': 0.916502987518492}. Best is trial 46 with value: 0.9830220713073005.\n",
      "[I 2023-12-19 12:26:31,918] Trial 85 finished with value: 0.9626485568760611 and parameters: {'booster': 'gbtree', 'max_depth': 9, 'learning_rate': 0.0836044310726793, 'subsample': 0.772178231643096, 'colsample_bytree': 0.4206218136108997, 'gamma': 0.8804945765624472}. Best is trial 46 with value: 0.9830220713073005.\n",
      "[I 2023-12-19 12:26:35,061] Trial 86 finished with value: 0.9473684210526315 and parameters: {'booster': 'gbtree', 'max_depth': 9, 'learning_rate': 0.02103977038822091, 'subsample': 0.6867842585675464, 'colsample_bytree': 0.4750779949848595, 'gamma': 0.9518910207283963}. Best is trial 46 with value: 0.9830220713073005.\n",
      "[I 2023-12-19 12:26:38,521] Trial 87 finished with value: 0.9745331069609507 and parameters: {'booster': 'gbtree', 'max_depth': 8, 'learning_rate': 0.08620315585301008, 'subsample': 0.8085246596995272, 'colsample_bytree': 0.5520207849028074, 'gamma': 0.7637054441636623}. Best is trial 46 with value: 0.9830220713073005.\n",
      "[I 2023-12-19 12:26:41,581] Trial 88 finished with value: 0.9592529711375212 and parameters: {'booster': 'gbtree', 'max_depth': 9, 'learning_rate': 0.07989087541175213, 'subsample': 0.7219921453950615, 'colsample_bytree': 0.4876383397174015, 'gamma': 0.936942437098908}. Best is trial 46 with value: 0.9830220713073005.\n",
      "[I 2023-12-19 12:26:45,245] Trial 89 finished with value: 0.9626485568760611 and parameters: {'booster': 'gbtree', 'max_depth': 9, 'learning_rate': 0.08959105415993904, 'subsample': 0.7419703847260514, 'colsample_bytree': 0.3789554094861012, 'gamma': 0.8112178077218138}. Best is trial 46 with value: 0.9830220713073005.\n",
      "[I 2023-12-19 12:26:48,073] Trial 90 finished with value: 0.9609507640067911 and parameters: {'booster': 'gbtree', 'max_depth': 8, 'learning_rate': 0.09351990801685536, 'subsample': 0.8453000348185351, 'colsample_bytree': 0.4980572901181443, 'gamma': 0.8459258833203843}. Best is trial 46 with value: 0.9830220713073005.\n",
      "[I 2023-12-19 12:26:51,744] Trial 91 finished with value: 0.966044142614601 and parameters: {'booster': 'gbtree', 'max_depth': 10, 'learning_rate': 0.07609433663042071, 'subsample': 0.6759878513501045, 'colsample_bytree': 0.6209970045569453, 'gamma': 0.9631385621012715}. Best is trial 46 with value: 0.9830220713073005.\n",
      "[I 2023-12-19 12:26:55,538] Trial 92 finished with value: 0.969439728353141 and parameters: {'booster': 'gbtree', 'max_depth': 10, 'learning_rate': 0.0809212509662279, 'subsample': 0.8836879432562736, 'colsample_bytree': 0.555906627461016, 'gamma': 0.9767294146202559}. Best is trial 46 with value: 0.9830220713073005.\n",
      "[I 2023-12-19 12:26:58,688] Trial 93 finished with value: 0.9745331069609507 and parameters: {'booster': 'gbtree', 'max_depth': 9, 'learning_rate': 0.052347032360459934, 'subsample': 0.7606034730419644, 'colsample_bytree': 0.6094821179030576, 'gamma': 0.9028137654449404}. Best is trial 46 with value: 0.9830220713073005.\n",
      "[I 2023-12-19 12:27:02,776] Trial 94 finished with value: 0.967741935483871 and parameters: {'booster': 'gbtree', 'max_depth': 10, 'learning_rate': 0.07000592624796272, 'subsample': 0.8097533249733847, 'colsample_bytree': 0.5083151796303007, 'gamma': 0.920133794713779}. Best is trial 46 with value: 0.9830220713073005.\n",
      "[I 2023-12-19 12:28:23,197] Trial 95 finished with value: 0.9728353140916808 and parameters: {'booster': 'dart', 'max_depth': 9, 'learning_rate': 0.07427969899850409, 'subsample': 0.8959210959394371, 'colsample_bytree': 0.6457895979472641, 'gamma': 0.887137348951972}. Best is trial 46 with value: 0.9830220713073005.\n",
      "[I 2023-12-19 12:28:27,198] Trial 96 finished with value: 0.9728353140916808 and parameters: {'booster': 'gbtree', 'max_depth': 10, 'learning_rate': 0.0832494777279058, 'subsample': 0.3105349159093128, 'colsample_bytree': 0.5734478893252558, 'gamma': 0.5442051324403163}. Best is trial 46 with value: 0.9830220713073005.\n",
      "[I 2023-12-19 12:28:29,838] Trial 97 finished with value: 0.969439728353141 and parameters: {'booster': 'gbtree', 'max_depth': 7, 'learning_rate': 0.0772345605111457, 'subsample': 0.9667150504748647, 'colsample_bytree': 0.946411679673565, 'gamma': 0.9458554043406939}. Best is trial 46 with value: 0.9830220713073005.\n",
      "c:\\Users\\awscl\\.conda\\envs\\ML\\Lib\\site-packages\\xgboost\\core.py:160: UserWarning: [12:28:29] WARNING: C:\\buildkite-agent\\builds\\buildkite-windows-cpu-autoscaling-group-i-0750514818a16474a-1\\xgboost\\xgboost-ci-windows\\src\\learner.cc:742: \n",
      "Parameters: { \"colsample_bytree\", \"gamma\", \"max_depth\", \"subsample\" } are not used.\n",
      "\n",
      "  warnings.warn(smsg, UserWarning)\n",
      "[I 2023-12-19 12:28:31,755] Trial 98 finished with value: 0.8675721561969439 and parameters: {'booster': 'gblinear', 'max_depth': 9, 'learning_rate': 0.07238641807581446, 'subsample': 0.8563774916020157, 'colsample_bytree': 0.973968663322011, 'gamma': 0.9740561400351126}. Best is trial 46 with value: 0.9830220713073005.\n",
      "[I 2023-12-19 12:28:35,600] Trial 99 finished with value: 0.9592529711375212 and parameters: {'booster': 'gbtree', 'max_depth': 8, 'learning_rate': 0.08674921402079869, 'subsample': 0.8331737677808917, 'colsample_bytree': 0.45159267622063953, 'gamma': 0.870605778603181}. Best is trial 46 with value: 0.9830220713073005.\n",
      "c:\\Users\\awscl\\.conda\\envs\\ML\\Lib\\site-packages\\xgboost\\core.py:160: UserWarning: [12:28:39] WARNING: C:\\buildkite-agent\\builds\\buildkite-windows-cpu-autoscaling-group-i-0750514818a16474a-1\\xgboost\\xgboost-ci-windows\\src\\c_api\\c_api.cc:1240: Saving into deprecated binary model format, please consider using `json` or `ubj`. Model format will default to JSON in XGBoost 2.2 if not specified.\n",
      "  warnings.warn(smsg, UserWarning)\n",
      "c:\\Users\\awscl\\.conda\\envs\\ML\\Lib\\site-packages\\_distutils_hack\\__init__.py:18: UserWarning: Distutils was imported before Setuptools, but importing Setuptools also replaces the `distutils` module in `sys.modules`. This may lead to undesirable behaviors or errors. To avoid these issues, avoid using distutils directly, ensure that setuptools is installed in the traditional way (e.g. not an editable install), and/or make sure that setuptools is always imported before distutils.\n",
      "  warnings.warn(\n",
      "c:\\Users\\awscl\\.conda\\envs\\ML\\Lib\\site-packages\\_distutils_hack\\__init__.py:33: UserWarning: Setuptools is replacing distutils.\n",
      "  warnings.warn(\"Setuptools is replacing distutils.\")\n"
     ]
    }
   ],
   "source": [
    "import mlflow\n",
    "import mlflow.xgboost\n",
    "import optuna\n",
    "import xgboost as xgb\n",
    "from sklearn.metrics import recall_score\n",
    "\n",
    "# Assuming X_train, X_test, y_train, y_test are defined before this point\n",
    "\n",
    "def objective(trial):\n",
    "    xgb_params = {\n",
    "        'objective': 'binary:logistic',\n",
    "        'eval_metric': 'logloss',\n",
    "        'booster': trial.suggest_categorical('booster', ['gbtree', 'gblinear', 'dart']),\n",
    "        'max_depth': trial.suggest_int('max_depth', 1, 10),\n",
    "        'learning_rate': trial.suggest_float('learning_rate', 0.001, 0.1),\n",
    "        'subsample': trial.suggest_float('subsample', 0.1, 1.0),\n",
    "        'colsample_bytree': trial.suggest_float('colsample_bytree', 0.1, 1.0),\n",
    "        'gamma': trial.suggest_float('gamma', 0.0, 1.0),\n",
    "    }\n",
    "\n",
    "    xgb_model = xgb.XGBClassifier(**xgb_params)\n",
    "    xgb_model.fit(X_train, y_train)\n",
    "\n",
    "    y_pred = xgb_model.predict(X_test)\n",
    "\n",
    "    recall = recall_score(y_test, y_pred)\n",
    "\n",
    "    # Log parameters and metrics for each trial\n",
    "    with mlflow.start_run(nested=True):\n",
    "        mlflow.log_params(xgb_params)\n",
    "        mlflow.log_metric(\"recall\", recall)\n",
    "\n",
    "    return recall\n",
    "\n",
    "mlflow.set_experiment(\"xgboost_hyperparameter_tuning_recall\")\n",
    "\n",
    "# Optuna study\n",
    "study = optuna.create_study(direction='maximize')\n",
    "study.optimize(objective, n_trials=100)\n",
    "\n",
    "# End the active run before logging the best parameters and model\n",
    "mlflow.end_run()\n",
    "\n",
    "# Log the best parameters and model\n",
    "with mlflow.start_run():\n",
    "    best_params = study.best_params\n",
    "    mlflow.log_params(best_params)\n",
    "\n",
    "    best_xgb_model = xgb.XGBClassifier(**best_params)\n",
    "    best_xgb_model.fit(X_train, y_train)\n",
    "\n",
    "    # Log the best model\n",
    "    mlflow.xgboost.log_model(best_xgb_model, \"xgboost_model\")\n"
   ]
  },
  {
   "cell_type": "code",
   "execution_count": 24,
   "id": "0745a70b",
   "metadata": {},
   "outputs": [
    {
     "name": "stderr",
     "output_type": "stream",
     "text": [
      "c:\\Users\\awscl\\.conda\\envs\\ML\\Lib\\site-packages\\tqdm\\auto.py:21: TqdmWarning: IProgress not found. Please update jupyter and ipywidgets. See https://ipywidgets.readthedocs.io/en/stable/user_install.html\n",
      "  from .autonotebook import tqdm as notebook_tqdm\n",
      "2023/12/19 11:33:12 INFO mlflow.tracking.fluent: Experiment with name 'random_forest_hyperparameter_tuning_recall' does not exist. Creating a new experiment.\n",
      "[I 2023-12-19 11:33:12,778] A new study created in memory with name: no-name-97100367-f9e5-4c8f-82f4-94d6dd2b4fc8\n",
      "[I 2023-12-19 11:33:17,692] Trial 0 finished with value: 0.0 and parameters: {'n_estimators': 147, 'max_depth': 24, 'min_samples_split': 0.7695160042486281, 'min_samples_leaf': 0.20387740751640715, 'max_features': 0.2727339022357106}. Best is trial 0 with value: 0.0.\n",
      "[I 2023-12-19 11:33:19,242] Trial 1 finished with value: 0.0 and parameters: {'n_estimators': 44, 'max_depth': 20, 'min_samples_split': 0.9393151702847801, 'min_samples_leaf': 0.3294236045743407, 'max_features': 0.5467478731762316}. Best is trial 0 with value: 0.0.\n",
      "[I 2023-12-19 11:33:20,286] Trial 2 finished with value: 0.0 and parameters: {'n_estimators': 25, 'max_depth': 31, 'min_samples_split': 0.5526893025797164, 'min_samples_leaf': 0.34485783308311607, 'max_features': 0.6068366530529538}. Best is trial 0 with value: 0.0.\n",
      "[I 2023-12-19 11:33:21,883] Trial 3 finished with value: 0.0 and parameters: {'n_estimators': 34, 'max_depth': 13, 'min_samples_split': 0.9027605258823777, 'min_samples_leaf': 0.3913903404923843, 'max_features': 0.4712977388915839}. Best is trial 0 with value: 0.0.\n",
      "[I 2023-12-19 11:33:30,653] Trial 4 finished with value: 0.9219015280135824 and parameters: {'n_estimators': 82, 'max_depth': 4, 'min_samples_split': 0.47702222387497495, 'min_samples_leaf': 0.25471521731219093, 'max_features': 0.5881913947367565}. Best is trial 4 with value: 0.9219015280135824.\n",
      "[I 2023-12-19 11:33:34,520] Trial 5 finished with value: 1.0 and parameters: {'n_estimators': 117, 'max_depth': 3, 'min_samples_split': 0.4829210862861708, 'min_samples_leaf': 0.4555048502717002, 'max_features': 0.7265590174991033}. Best is trial 5 with value: 1.0.\n",
      "[I 2023-12-19 11:33:37,845] Trial 6 finished with value: 1.0 and parameters: {'n_estimators': 108, 'max_depth': 24, 'min_samples_split': 0.7543606664823783, 'min_samples_leaf': 0.43053808947441086, 'max_features': 0.5205294813914243}. Best is trial 5 with value: 1.0.\n",
      "[I 2023-12-19 11:33:39,980] Trial 7 finished with value: 0.9168081494057725 and parameters: {'n_estimators': 28, 'max_depth': 22, 'min_samples_split': 0.22106608653743479, 'min_samples_leaf': 0.24750371148325068, 'max_features': 0.21751110251484795}. Best is trial 5 with value: 1.0.\n",
      "[I 2023-12-19 11:33:43,953] Trial 8 finished with value: 0.0 and parameters: {'n_estimators': 130, 'max_depth': 3, 'min_samples_split': 0.7605567669713116, 'min_samples_leaf': 0.4326548115174479, 'max_features': 0.7722666490816356}. Best is trial 5 with value: 1.0.\n",
      "[I 2023-12-19 11:33:47,864] Trial 9 finished with value: 1.0 and parameters: {'n_estimators': 121, 'max_depth': 18, 'min_samples_split': 0.6415869646513928, 'min_samples_leaf': 0.15899751369950876, 'max_features': 0.21899239972563628}. Best is trial 5 with value: 1.0.\n",
      "[I 2023-12-19 11:34:46,135] Trial 10 finished with value: 0.9219015280135824 and parameters: {'n_estimators': 188, 'max_depth': 10, 'min_samples_split': 0.3066298577731096, 'min_samples_leaf': 0.11101512090302651, 'max_features': 0.998617605089354}. Best is trial 5 with value: 1.0.\n",
      "[I 2023-12-19 11:34:49,011] Trial 11 finished with value: 1.0 and parameters: {'n_estimators': 82, 'max_depth': 28, 'min_samples_split': 0.3900378010658837, 'min_samples_leaf': 0.4780372442338126, 'max_features': 0.7935872402247858}. Best is trial 5 with value: 1.0.\n",
      "[I 2023-12-19 11:34:53,820] Trial 12 finished with value: 1.0 and parameters: {'n_estimators': 161, 'max_depth': 9, 'min_samples_split': 0.1280926716623198, 'min_samples_leaf': 0.4999029428942358, 'max_features': 0.40991951930437287}. Best is trial 5 with value: 1.0.\n",
      "[I 2023-12-19 11:34:56,845] Trial 13 finished with value: 1.0 and parameters: {'n_estimators': 92, 'max_depth': 1, 'min_samples_split': 0.6688459015958251, 'min_samples_leaf': 0.4155779367733967, 'max_features': 0.7808165087599042}. Best is trial 5 with value: 1.0.\n",
      "[I 2023-12-19 11:35:00,276] Trial 14 finished with value: 0.0 and parameters: {'n_estimators': 105, 'max_depth': 26, 'min_samples_split': 0.5057786919322671, 'min_samples_leaf': 0.3710839371842485, 'max_features': 0.6741345802080537}. Best is trial 5 with value: 1.0.\n",
      "[I 2023-12-19 11:35:02,213] Trial 15 finished with value: 1.0 and parameters: {'n_estimators': 59, 'max_depth': 16, 'min_samples_split': 0.8213138389399355, 'min_samples_leaf': 0.44915721889859184, 'max_features': 0.9061072794049896}. Best is trial 5 with value: 1.0.\n",
      "[I 2023-12-19 11:35:14,932] Trial 16 finished with value: 0.9219015280135824 and parameters: {'n_estimators': 170, 'max_depth': 8, 'min_samples_split': 0.6289547893693047, 'min_samples_leaf': 0.28609792984904425, 'max_features': 0.3682615627537801}. Best is trial 5 with value: 1.0.\n",
      "[I 2023-12-19 11:35:19,669] Trial 17 finished with value: 0.0 and parameters: {'n_estimators': 131, 'max_depth': 16, 'min_samples_split': 0.41341664955456114, 'min_samples_leaf': 0.4534297736628523, 'max_features': 0.6839023176192138}. Best is trial 5 with value: 1.0.\n",
      "[I 2023-12-19 11:35:23,118] Trial 18 finished with value: 1.0 and parameters: {'n_estimators': 112, 'max_depth': 32, 'min_samples_split': 0.9844039906503099, 'min_samples_leaf': 0.38629872085827, 'max_features': 0.5033384500392647}. Best is trial 5 with value: 1.0.\n",
      "[I 2023-12-19 11:35:25,323] Trial 19 finished with value: 0.0 and parameters: {'n_estimators': 59, 'max_depth': 6, 'min_samples_split': 0.579305661348093, 'min_samples_leaf': 0.32348521521321794, 'max_features': 0.687752328264124}. Best is trial 5 with value: 1.0.\n",
      "[I 2023-12-19 11:35:29,868] Trial 20 finished with value: 0.0 and parameters: {'n_estimators': 144, 'max_depth': 13, 'min_samples_split': 0.7191156758132179, 'min_samples_leaf': 0.47758318892326884, 'max_features': 0.33640569742486315}. Best is trial 5 with value: 1.0.\n",
      "[I 2023-12-19 11:35:33,253] Trial 21 finished with value: 0.0 and parameters: {'n_estimators': 115, 'max_depth': 19, 'min_samples_split': 0.8454914832163869, 'min_samples_leaf': 0.17763311740129592, 'max_features': 0.10655105333418846}. Best is trial 5 with value: 1.0.\n",
      "[I 2023-12-19 11:35:37,267] Trial 22 finished with value: 1.0 and parameters: {'n_estimators': 127, 'max_depth': 20, 'min_samples_split': 0.6679417926592898, 'min_samples_leaf': 0.1028712283998175, 'max_features': 0.1286467444018749}. Best is trial 5 with value: 1.0.\n",
      "[I 2023-12-19 11:35:43,464] Trial 23 finished with value: 0.8981324278438031 and parameters: {'n_estimators': 91, 'max_depth': 13, 'min_samples_split': 0.5990629991486172, 'min_samples_leaf': 0.1457669980137758, 'max_features': 0.2163532274617197}. Best is trial 5 with value: 1.0.\n",
      "[I 2023-12-19 11:35:59,881] Trial 24 finished with value: 0.9219015280135824 and parameters: {'n_estimators': 102, 'max_depth': 24, 'min_samples_split': 0.4772782250764509, 'min_samples_leaf': 0.22024357472659073, 'max_features': 0.8561376732807751}. Best is trial 5 with value: 1.0.\n",
      "[I 2023-12-19 11:36:07,086] Trial 25 finished with value: 0.830220713073005 and parameters: {'n_estimators': 73, 'max_depth': 28, 'min_samples_split': 0.36511772539968534, 'min_samples_leaf': 0.27667367356742256, 'max_features': 0.4060205013542416}. Best is trial 5 with value: 1.0.\n",
      "[I 2023-12-19 11:36:17,686] Trial 26 finished with value: 0.0 and parameters: {'n_estimators': 148, 'max_depth': 18, 'min_samples_split': 0.6772810075645319, 'min_samples_leaf': 0.36455492034195264, 'max_features': 0.4614181261461111}. Best is trial 5 with value: 1.0.\n",
      "[I 2023-12-19 11:36:26,885] Trial 27 finished with value: 1.0 and parameters: {'n_estimators': 118, 'max_depth': 22, 'min_samples_split': 0.8372211313465551, 'min_samples_leaf': 0.4059689647242897, 'max_features': 0.6299357614585847}. Best is trial 5 with value: 1.0.\n",
      "[I 2023-12-19 11:36:53,056] Trial 28 finished with value: 0.9320882852292021 and parameters: {'n_estimators': 169, 'max_depth': 16, 'min_samples_split': 0.29490105731257177, 'min_samples_leaf': 0.1464310679116987, 'max_features': 0.2615750114698782}. Best is trial 5 with value: 1.0.\n",
      "[I 2023-12-19 11:37:00,337] Trial 29 finished with value: 0.0 and parameters: {'n_estimators': 147, 'max_depth': 24, 'min_samples_split': 0.7627745717242815, 'min_samples_leaf': 0.4229688560359884, 'max_features': 0.327055525477001}. Best is trial 5 with value: 1.0.\n",
      "[I 2023-12-19 11:37:10,688] Trial 30 finished with value: 1.0 and parameters: {'n_estimators': 198, 'max_depth': 28, 'min_samples_split': 0.7285257894664978, 'min_samples_leaf': 0.20586751363521932, 'max_features': 0.16463579150937763}. Best is trial 5 with value: 1.0.\n",
      "[I 2023-12-19 11:37:14,808] Trial 31 finished with value: 1.0 and parameters: {'n_estimators': 79, 'max_depth': 28, 'min_samples_split': 0.40114820136830714, 'min_samples_leaf': 0.47822940788131385, 'max_features': 0.7722974860406888}. Best is trial 5 with value: 1.0.\n",
      "[I 2023-12-19 11:37:18,676] Trial 32 finished with value: 1.0 and parameters: {'n_estimators': 99, 'max_depth': 25, 'min_samples_split': 0.5211864312759664, 'min_samples_leaf': 0.46168769081728345, 'max_features': 0.8584582130389522}. Best is trial 5 with value: 1.0.\n",
      "[I 2023-12-19 11:37:21,035] Trial 33 finished with value: 1.0 and parameters: {'n_estimators': 67, 'max_depth': 30, 'min_samples_split': 0.4012332423456817, 'min_samples_leaf': 0.47796691790587215, 'max_features': 0.5443822770637813}. Best is trial 5 with value: 1.0.\n",
      "[I 2023-12-19 11:37:22,765] Trial 34 finished with value: 0.0 and parameters: {'n_estimators': 46, 'max_depth': 22, 'min_samples_split': 0.44202079481951406, 'min_samples_leaf': 0.4997910450202323, 'max_features': 0.7373598336106991}. Best is trial 5 with value: 1.0.\n",
      "[I 2023-12-19 11:37:23,387] Trial 35 finished with value: 0.0 and parameters: {'n_estimators': 10, 'max_depth': 27, 'min_samples_split': 0.5499223131070674, 'min_samples_leaf': 0.3419707276622419, 'max_features': 0.9886609856873922}. Best is trial 5 with value: 1.0.\n",
      "[I 2023-12-19 11:37:26,298] Trial 36 finished with value: 1.0 and parameters: {'n_estimators': 92, 'max_depth': 30, 'min_samples_split': 0.31726167361517266, 'min_samples_leaf': 0.44139650150419535, 'max_features': 0.8408557775472958}. Best is trial 5 with value: 1.0.\n",
      "[I 2023-12-19 11:37:45,419] Trial 37 finished with value: 0.9219015280135824 and parameters: {'n_estimators': 121, 'max_depth': 11, 'min_samples_split': 0.23602092155032905, 'min_samples_leaf': 0.3058627438169746, 'max_features': 0.9135340743083862}. Best is trial 5 with value: 1.0.\n",
      "[I 2023-12-19 11:37:50,412] Trial 38 finished with value: 0.0 and parameters: {'n_estimators': 137, 'max_depth': 18, 'min_samples_split': 0.6014284144641897, 'min_samples_leaf': 0.38752562062254037, 'max_features': 0.5730953535206655}. Best is trial 5 with value: 1.0.\n",
      "[I 2023-12-19 11:37:53,357] Trial 39 finished with value: 0.0 and parameters: {'n_estimators': 84, 'max_depth': 22, 'min_samples_split': 0.8967626724243107, 'min_samples_leaf': 0.25277223480790506, 'max_features': 0.7283409684553834}. Best is trial 5 with value: 1.0.\n",
      "[I 2023-12-19 11:37:57,527] Trial 40 finished with value: 1.0 and parameters: {'n_estimators': 109, 'max_depth': 5, 'min_samples_split': 0.11156644295877205, 'min_samples_leaf': 0.4081041698421092, 'max_features': 0.6152046848347743}. Best is trial 5 with value: 1.0.\n",
      "[I 2023-12-19 11:38:03,243] Trial 41 finished with value: 1.0 and parameters: {'n_estimators': 162, 'max_depth': 1, 'min_samples_split': 0.18287722651123298, 'min_samples_leaf': 0.49629485785722627, 'max_features': 0.43140809433607374}. Best is trial 5 with value: 1.0.\n",
      "[I 2023-12-19 11:38:08,169] Trial 42 finished with value: 0.0 and parameters: {'n_estimators': 139, 'max_depth': 10, 'min_samples_split': 0.3495222897161197, 'min_samples_leaf': 0.4662814695692306, 'max_features': 0.5111437342741272}. Best is trial 5 with value: 1.0.\n",
      "[I 2023-12-19 11:38:13,235] Trial 43 finished with value: 0.0 and parameters: {'n_estimators': 155, 'max_depth': 7, 'min_samples_split': 0.14427614731629693, 'min_samples_leaf': 0.43230320346056245, 'max_features': 0.3700367328423563}. Best is trial 5 with value: 1.0.\n",
      "[I 2023-12-19 11:38:20,261] Trial 44 finished with value: 1.0 and parameters: {'n_estimators': 179, 'max_depth': 14, 'min_samples_split': 0.47080582239897417, 'min_samples_leaf': 0.498026308341365, 'max_features': 0.6405169161798153}. Best is trial 5 with value: 1.0.\n",
      "[I 2023-12-19 11:38:24,002] Trial 45 finished with value: 0.0 and parameters: {'n_estimators': 97, 'max_depth': 4, 'min_samples_split': 0.24373097163004745, 'min_samples_leaf': 0.45526416478651405, 'max_features': 0.2597477488212712}. Best is trial 5 with value: 1.0.\n",
      "[I 2023-12-19 11:38:29,979] Trial 46 finished with value: 1.0 and parameters: {'n_estimators': 124, 'max_depth': 2, 'min_samples_split': 0.7917070469563132, 'min_samples_leaf': 0.4764860781576714, 'max_features': 0.5112663007295588}. Best is trial 5 with value: 1.0.\n",
      "[I 2023-12-19 11:38:36,078] Trial 47 finished with value: 0.0 and parameters: {'n_estimators': 109, 'max_depth': 8, 'min_samples_split': 0.5347446468208855, 'min_samples_leaf': 0.43804464280918304, 'max_features': 0.20813607962964106}. Best is trial 5 with value: 1.0.\n",
      "[I 2023-12-19 11:38:40,549] Trial 48 finished with value: 0.0 and parameters: {'n_estimators': 61, 'max_depth': 11, 'min_samples_split': 0.6363778957620649, 'min_samples_leaf': 0.42299789791518727, 'max_features': 0.5535033026805828}. Best is trial 5 with value: 1.0.\n",
      "[I 2023-12-19 11:38:44,350] Trial 49 finished with value: 0.0 and parameters: {'n_estimators': 49, 'max_depth': 15, 'min_samples_split': 0.7011580242144393, 'min_samples_leaf': 0.23402882551053966, 'max_features': 0.3028537597575567}. Best is trial 5 with value: 1.0.\n",
      "[I 2023-12-19 11:38:53,926] Trial 50 finished with value: 0.0 and parameters: {'n_estimators': 132, 'max_depth': 26, 'min_samples_split': 0.9012945880753546, 'min_samples_leaf': 0.3751101838204507, 'max_features': 0.4551840282736927}. Best is trial 5 with value: 1.0.\n",
      "[I 2023-12-19 11:38:57,377] Trial 51 finished with value: 0.0 and parameters: {'n_estimators': 80, 'max_depth': 1, 'min_samples_split': 0.6429987425710715, 'min_samples_leaf': 0.4068154495721594, 'max_features': 0.7869603237257792}. Best is trial 5 with value: 1.0.\n",
      "[I 2023-12-19 11:39:00,299] Trial 52 finished with value: 0.0 and parameters: {'n_estimators': 88, 'max_depth': 3, 'min_samples_split': 0.5643572911080196, 'min_samples_leaf': 0.4845181713252826, 'max_features': 0.722661661850766}. Best is trial 5 with value: 1.0.\n",
      "[I 2023-12-19 11:39:03,679] Trial 53 finished with value: 1.0 and parameters: {'n_estimators': 102, 'max_depth': 6, 'min_samples_split': 0.7922677015910168, 'min_samples_leaf': 0.4534140656312002, 'max_features': 0.8192212602042583}. Best is trial 5 with value: 1.0.\n",
      "[I 2023-12-19 11:39:06,368] Trial 54 finished with value: 0.0 and parameters: {'n_estimators': 74, 'max_depth': 4, 'min_samples_split': 0.7325794290261127, 'min_samples_leaf': 0.4176272772221662, 'max_features': 0.9049152878085505}. Best is trial 5 with value: 1.0.\n",
      "[I 2023-12-19 11:39:09,857] Trial 55 finished with value: 1.0 and parameters: {'n_estimators': 95, 'max_depth': 20, 'min_samples_split': 0.6797863949465, 'min_samples_leaf': 0.3566907311436027, 'max_features': 0.6569494800021888}. Best is trial 5 with value: 1.0.\n",
      "[I 2023-12-19 11:39:14,137] Trial 56 finished with value: 1.0 and parameters: {'n_estimators': 113, 'max_depth': 32, 'min_samples_split': 0.6074461806288902, 'min_samples_leaf': 0.4431357056504021, 'max_features': 0.6894998012814672}. Best is trial 5 with value: 1.0.\n",
      "[I 2023-12-19 11:39:19,766] Trial 57 finished with value: 1.0 and parameters: {'n_estimators': 154, 'max_depth': 9, 'min_samples_split': 0.49577878962818656, 'min_samples_leaf': 0.4661540777112628, 'max_features': 0.3964040918900994}. Best is trial 5 with value: 1.0.\n",
      "[I 2023-12-19 11:39:24,064] Trial 58 finished with value: 0.0 and parameters: {'n_estimators': 119, 'max_depth': 3, 'min_samples_split': 0.4511317114559825, 'min_samples_leaf': 0.39449435537586364, 'max_features': 0.8229858311220992}. Best is trial 5 with value: 1.0.\n",
      "[I 2023-12-19 11:39:28,257] Trial 59 finished with value: 1.0 and parameters: {'n_estimators': 104, 'max_depth': 23, 'min_samples_split': 0.8678952197521129, 'min_samples_leaf': 0.15424225245433326, 'max_features': 0.5989103920996732}. Best is trial 5 with value: 1.0.\n",
      "[I 2023-12-19 11:40:31,863] Trial 60 finished with value: 0.9219015280135824 and parameters: {'n_estimators': 186, 'max_depth': 2, 'min_samples_split': 0.26690859317923826, 'min_samples_leaf': 0.1176154042073955, 'max_features': 0.8915072842138855}. Best is trial 5 with value: 1.0.\n",
      "[I 2023-12-19 11:40:32,894] Trial 61 finished with value: 1.0 and parameters: {'n_estimators': 32, 'max_depth': 17, 'min_samples_split': 0.7837215520520654, 'min_samples_leaf': 0.4533124650526936, 'max_features': 0.9537782471496825}. Best is trial 5 with value: 1.0.\n",
      "[I 2023-12-19 11:40:35,699] Trial 62 finished with value: 1.0 and parameters: {'n_estimators': 69, 'max_depth': 14, 'min_samples_split': 0.9797882601604873, 'min_samples_leaf': 0.4835406375783721, 'max_features': 0.7930198689248047}. Best is trial 5 with value: 1.0.\n",
      "[I 2023-12-19 11:40:37,895] Trial 63 finished with value: 0.0 and parameters: {'n_estimators': 63, 'max_depth': 12, 'min_samples_split': 0.8326260489071955, 'min_samples_leaf': 0.1800921567530804, 'max_features': 0.9434600666866744}. Best is trial 5 with value: 1.0.\n",
      "[I 2023-12-19 11:40:39,559] Trial 64 finished with value: 0.0 and parameters: {'n_estimators': 54, 'max_depth': 30, 'min_samples_split': 0.7500957840902509, 'min_samples_leaf': 0.4326070808319803, 'max_features': 0.8777745408841243}. Best is trial 5 with value: 1.0.\n",
      "[I 2023-12-19 11:40:42,193] Trial 65 finished with value: 0.0 and parameters: {'n_estimators': 88, 'max_depth': 19, 'min_samples_split': 0.6589932738276164, 'min_samples_leaf': 0.26936429581709664, 'max_features': 0.7160951640675537}. Best is trial 5 with value: 1.0.\n",
      "[I 2023-12-19 11:40:45,245] Trial 66 finished with value: 1.0 and parameters: {'n_estimators': 78, 'max_depth': 25, 'min_samples_split': 0.5853117424156246, 'min_samples_leaf': 0.4689791437760971, 'max_features': 0.761776581990687}. Best is trial 5 with value: 1.0.\n",
      "[I 2023-12-19 11:40:49,218] Trial 67 finished with value: 0.0 and parameters: {'n_estimators': 131, 'max_depth': 21, 'min_samples_split': 0.7033730628448177, 'min_samples_leaf': 0.4474811766721591, 'max_features': 0.16052722644763584}. Best is trial 5 with value: 1.0.\n",
      "[I 2023-12-19 11:40:51,202] Trial 68 finished with value: 1.0 and parameters: {'n_estimators': 54, 'max_depth': 6, 'min_samples_split': 0.19092711613488536, 'min_samples_leaf': 0.3204226145950096, 'max_features': 0.8053327184119634}. Best is trial 5 with value: 1.0.\n",
      "[I 2023-12-19 11:40:54,543] Trial 69 finished with value: 1.0 and parameters: {'n_estimators': 109, 'max_depth': 29, 'min_samples_split': 0.806728239983393, 'min_samples_leaf': 0.488242814959343, 'max_features': 0.763662256276702}. Best is trial 5 with value: 1.0.\n",
      "[I 2023-12-19 11:40:55,843] Trial 70 finished with value: 1.0 and parameters: {'n_estimators': 38, 'max_depth': 17, 'min_samples_split': 0.35894470705064146, 'min_samples_leaf': 0.4000543910596339, 'max_features': 0.4953190091033857}. Best is trial 5 with value: 1.0.\n",
      "[I 2023-12-19 11:40:58,599] Trial 71 finished with value: 1.0 and parameters: {'n_estimators': 86, 'max_depth': 32, 'min_samples_split': 0.9576589729005252, 'min_samples_leaf': 0.4280509761979721, 'max_features': 0.5341223776948624}. Best is trial 5 with value: 1.0.\n",
      "[I 2023-12-19 11:41:02,618] Trial 72 finished with value: 0.0 and parameters: {'n_estimators': 124, 'max_depth': 31, 'min_samples_split': 0.9965885354378029, 'min_samples_leaf': 0.41637022983118244, 'max_features': 0.4784315881435287}. Best is trial 5 with value: 1.0.\n",
      "[I 2023-12-19 11:41:06,830] Trial 73 finished with value: 1.0 and parameters: {'n_estimators': 117, 'max_depth': 27, 'min_samples_split': 0.8751867840661203, 'min_samples_leaf': 0.3826940101619861, 'max_features': 0.4419325505477128}. Best is trial 5 with value: 1.0.\n",
      "[I 2023-12-19 11:41:12,083] Trial 74 finished with value: 0.0 and parameters: {'n_estimators': 138, 'max_depth': 29, 'min_samples_split': 0.9499845154908557, 'min_samples_leaf': 0.4630004444114847, 'max_features': 0.5684944184133294}. Best is trial 5 with value: 1.0.\n",
      "[I 2023-12-19 11:41:16,247] Trial 75 finished with value: 0.0 and parameters: {'n_estimators': 94, 'max_depth': 23, 'min_samples_split': 0.6173978667706955, 'min_samples_leaf': 0.3474656588273074, 'max_features': 0.8568477433834797}. Best is trial 5 with value: 1.0.\n",
      "[I 2023-12-19 11:41:19,745] Trial 76 finished with value: 1.0 and parameters: {'n_estimators': 103, 'max_depth': 25, 'min_samples_split': 0.7481889500598167, 'min_samples_leaf': 0.44343262406354816, 'max_features': 0.41733451808887445}. Best is trial 5 with value: 1.0.\n",
      "[I 2023-12-19 11:41:23,477] Trial 77 finished with value: 0.0 and parameters: {'n_estimators': 114, 'max_depth': 2, 'min_samples_split': 0.9192442338245023, 'min_samples_leaf': 0.49047080330043064, 'max_features': 0.6978779171492884}. Best is trial 5 with value: 1.0.\n",
      "[I 2023-12-19 11:41:24,405] Trial 78 finished with value: 1.0 and parameters: {'n_estimators': 23, 'max_depth': 15, 'min_samples_split': 0.7067530187327346, 'min_samples_leaf': 0.41118585740248165, 'max_features': 0.3264892620324301}. Best is trial 5 with value: 1.0.\n",
      "[I 2023-12-19 11:41:27,471] Trial 79 finished with value: 0.0 and parameters: {'n_estimators': 98, 'max_depth': 5, 'min_samples_split': 0.5122178195689323, 'min_samples_leaf': 0.4773518899451151, 'max_features': 0.35741780473753754}. Best is trial 5 with value: 1.0.\n",
      "[I 2023-12-19 11:41:31,022] Trial 80 finished with value: 0.0 and parameters: {'n_estimators': 110, 'max_depth': 8, 'min_samples_split': 0.42753749903828203, 'min_samples_leaf': 0.47180889394849046, 'max_features': 0.9388708319841246}. Best is trial 5 with value: 1.0.\n",
      "[I 2023-12-19 11:41:34,882] Trial 81 finished with value: 0.0 and parameters: {'n_estimators': 124, 'max_depth': 21, 'min_samples_split': 0.6755912322076779, 'min_samples_leaf': 0.10291416184204538, 'max_features': 0.15474533395767015}. Best is trial 5 with value: 1.0.\n",
      "[I 2023-12-19 11:41:44,304] Trial 82 finished with value: 0.8998302207130731 and parameters: {'n_estimators': 130, 'max_depth': 18, 'min_samples_split': 0.5619164547732032, 'min_samples_leaf': 0.1325915429353434, 'max_features': 0.1971044431437753}. Best is trial 5 with value: 1.0.\n",
      "[I 2023-12-19 11:41:48,516] Trial 83 finished with value: 0.0 and parameters: {'n_estimators': 145, 'max_depth': 19, 'min_samples_split': 0.6557151146310792, 'min_samples_leaf': 0.1717203587877305, 'max_features': 0.240794328928786}. Best is trial 5 with value: 1.0.\n",
      "[I 2023-12-19 11:41:52,261] Trial 84 finished with value: 1.0 and parameters: {'n_estimators': 127, 'max_depth': 20, 'min_samples_split': 0.6846873809008995, 'min_samples_leaf': 0.1312539739581282, 'max_features': 0.14793154925078666}. Best is trial 5 with value: 1.0.\n",
      "[I 2023-12-19 11:41:57,327] Trial 85 finished with value: 0.0 and parameters: {'n_estimators': 176, 'max_depth': 26, 'min_samples_split': 0.8237843037752255, 'min_samples_leaf': 0.4573085721420764, 'max_features': 0.11551247736276149}. Best is trial 5 with value: 1.0.\n",
      "[I 2023-12-19 11:42:12,084] Trial 86 finished with value: 0.9320882852292021 and parameters: {'n_estimators': 200, 'max_depth': 23, 'min_samples_split': 0.3854299294311354, 'min_samples_leaf': 0.197446509172654, 'max_features': 0.18398067520045286}. Best is trial 5 with value: 1.0.\n",
      "[I 2023-12-19 11:42:19,833] Trial 87 finished with value: 0.9134125636672326 and parameters: {'n_estimators': 135, 'max_depth': 27, 'min_samples_split': 0.5879443810039742, 'min_samples_leaf': 0.3013811720404231, 'max_features': 0.2927976906689954}. Best is trial 5 with value: 1.0.\n",
      "[I 2023-12-19 11:42:25,193] Trial 88 finished with value: 0.0 and parameters: {'n_estimators': 160, 'max_depth': 1, 'min_samples_split': 0.3335680694292112, 'min_samples_leaf': 0.4993253795290191, 'max_features': 0.5264984366600238}. Best is trial 5 with value: 1.0.\n",
      "[I 2023-12-19 11:42:28,906] Trial 89 finished with value: 0.0 and parameters: {'n_estimators': 107, 'max_depth': 31, 'min_samples_split': 0.6344972025074268, 'min_samples_leaf': 0.4250519243252817, 'max_features': 0.12536440856298972}. Best is trial 5 with value: 1.0.\n",
      "[I 2023-12-19 11:42:31,692] Trial 90 finished with value: 1.0 and parameters: {'n_estimators': 75, 'max_depth': 16, 'min_samples_split': 0.8551769874089679, 'min_samples_leaf': 0.4358486231525788, 'max_features': 0.6312034276062687}. Best is trial 5 with value: 1.0.\n",
      "[I 2023-12-19 11:42:35,150] Trial 91 finished with value: 1.0 and parameters: {'n_estimators': 100, 'max_depth': 21, 'min_samples_split': 0.7244533376429821, 'min_samples_leaf': 0.4022359748424328, 'max_features': 0.7496575708138342}. Best is trial 5 with value: 1.0.\n",
      "[I 2023-12-19 11:42:38,724] Trial 92 finished with value: 1.0 and parameters: {'n_estimators': 117, 'max_depth': 22, 'min_samples_split': 0.7703797942012643, 'min_samples_leaf': 0.3772050727825185, 'max_features': 0.5852116165526849}. Best is trial 5 with value: 1.0.\n",
      "[I 2023-12-19 11:42:42,587] Trial 93 finished with value: 1.0 and parameters: {'n_estimators': 120, 'max_depth': 24, 'min_samples_split': 0.8820452071327899, 'min_samples_leaf': 0.3660347074041881, 'max_features': 0.6545694432871628}. Best is trial 5 with value: 1.0.\n",
      "[I 2023-12-19 11:42:45,983] Trial 94 finished with value: 1.0 and parameters: {'n_estimators': 113, 'max_depth': 19, 'min_samples_split': 0.28501099690021237, 'min_samples_leaf': 0.38837174893869, 'max_features': 0.6109021324471358}. Best is trial 5 with value: 1.0.\n",
      "[I 2023-12-19 11:42:48,383] Trial 95 finished with value: 1.0 and parameters: {'n_estimators': 83, 'max_depth': 20, 'min_samples_split': 0.7368593900499889, 'min_samples_leaf': 0.4472125587228818, 'max_features': 0.23416199246946695}. Best is trial 5 with value: 1.0.\n",
      "[I 2023-12-19 11:42:52,281] Trial 96 finished with value: 1.0 and parameters: {'n_estimators': 142, 'max_depth': 18, 'min_samples_split': 0.8143101654286842, 'min_samples_leaf': 0.4161387602172946, 'max_features': 0.8251579188878106}. Best is trial 5 with value: 1.0.\n",
      "[I 2023-12-19 11:43:01,939] Trial 97 finished with value: 0.9235993208828522 and parameters: {'n_estimators': 92, 'max_depth': 17, 'min_samples_split': 0.5400160937307013, 'min_samples_leaf': 0.2200321269949786, 'max_features': 0.562363977401975}. Best is trial 5 with value: 1.0.\n",
      "[I 2023-12-19 11:43:05,328] Trial 98 finished with value: 0.0 and parameters: {'n_estimators': 122, 'max_depth': 5, 'min_samples_split': 0.1085206493821837, 'min_samples_leaf': 0.39327023825605695, 'max_features': 0.6650488134182956}. Best is trial 5 with value: 1.0.\n",
      "[I 2023-12-19 11:43:09,536] Trial 99 finished with value: 1.0 and parameters: {'n_estimators': 153, 'max_depth': 29, 'min_samples_split': 0.8487709235034537, 'min_samples_leaf': 0.291645843162337, 'max_features': 0.4949754043980672}. Best is trial 5 with value: 1.0.\n"
     ]
    }
   ],
   "source": [
    "import mlflow\n",
    "import mlflow.sklearn\n",
    "import optuna\n",
    "from sklearn.ensemble import RandomForestClassifier\n",
    "from sklearn.metrics import recall_score\n",
    "\n",
    "\n",
    "def objective(trial):\n",
    "    rf_params = {\n",
    "        'n_estimators': trial.suggest_int('n_estimators', 10, 200),\n",
    "        'max_depth': trial.suggest_int('max_depth', 1, 32),\n",
    "        'min_samples_split': trial.suggest_float('min_samples_split', 0.1, 1.0),\n",
    "        'min_samples_leaf': trial.suggest_float('min_samples_leaf', 0.1, 0.5),\n",
    "        'max_features': trial.suggest_float('max_features', 0.1, 1.0),\n",
    "    }\n",
    "\n",
    "    rf_model = RandomForestClassifier(**rf_params)\n",
    "    rf_model.fit(X_train, y_train)\n",
    "\n",
    "    y_pred = rf_model.predict(X_test)\n",
    "\n",
    "    recall = recall_score(y_test, y_pred)\n",
    "\n",
    "    # Log parameters and metrics for each trial\n",
    "    with mlflow.start_run(nested=True):\n",
    "        mlflow.log_params(rf_params)\n",
    "        mlflow.log_metric(\"recall\", recall)\n",
    "\n",
    "    return recall\n",
    "\n",
    "mlflow.set_experiment(\"random_forest_hyperparameter_tuning_recall\")\n",
    "\n",
    "# Optuna study\n",
    "study = optuna.create_study(direction='maximize')\n",
    "study.optimize(objective, n_trials=100)\n",
    "\n",
    "# End the active run before logging the best parameters and model\n",
    "mlflow.end_run()\n",
    "\n",
    "# Log the best parameters and model\n",
    "with mlflow.start_run():\n",
    "    best_params = study.best_params\n",
    "    mlflow.log_params(best_params)\n",
    "\n",
    "    best_rf_model = RandomForestClassifier(**best_params)\n",
    "    best_rf_model.fit(X_train, y_train)\n",
    "\n",
    "    # Log the best model\n",
    "    mlflow.sklearn.log_model(best_rf_model, \"random_forest_model\")\n"
   ]
  }
 ],
 "metadata": {
  "availableInstances": [
   {
    "_defaultOrder": 0,
    "_isFastLaunch": true,
    "category": "General purpose",
    "gpuNum": 0,
    "hideHardwareSpecs": false,
    "memoryGiB": 4,
    "name": "ml.t3.medium",
    "vcpuNum": 2
   },
   {
    "_defaultOrder": 1,
    "_isFastLaunch": false,
    "category": "General purpose",
    "gpuNum": 0,
    "hideHardwareSpecs": false,
    "memoryGiB": 8,
    "name": "ml.t3.large",
    "vcpuNum": 2
   },
   {
    "_defaultOrder": 2,
    "_isFastLaunch": false,
    "category": "General purpose",
    "gpuNum": 0,
    "hideHardwareSpecs": false,
    "memoryGiB": 16,
    "name": "ml.t3.xlarge",
    "vcpuNum": 4
   },
   {
    "_defaultOrder": 3,
    "_isFastLaunch": false,
    "category": "General purpose",
    "gpuNum": 0,
    "hideHardwareSpecs": false,
    "memoryGiB": 32,
    "name": "ml.t3.2xlarge",
    "vcpuNum": 8
   },
   {
    "_defaultOrder": 4,
    "_isFastLaunch": true,
    "category": "General purpose",
    "gpuNum": 0,
    "hideHardwareSpecs": false,
    "memoryGiB": 8,
    "name": "ml.m5.large",
    "vcpuNum": 2
   },
   {
    "_defaultOrder": 5,
    "_isFastLaunch": false,
    "category": "General purpose",
    "gpuNum": 0,
    "hideHardwareSpecs": false,
    "memoryGiB": 16,
    "name": "ml.m5.xlarge",
    "vcpuNum": 4
   },
   {
    "_defaultOrder": 6,
    "_isFastLaunch": false,
    "category": "General purpose",
    "gpuNum": 0,
    "hideHardwareSpecs": false,
    "memoryGiB": 32,
    "name": "ml.m5.2xlarge",
    "vcpuNum": 8
   },
   {
    "_defaultOrder": 7,
    "_isFastLaunch": false,
    "category": "General purpose",
    "gpuNum": 0,
    "hideHardwareSpecs": false,
    "memoryGiB": 64,
    "name": "ml.m5.4xlarge",
    "vcpuNum": 16
   },
   {
    "_defaultOrder": 8,
    "_isFastLaunch": false,
    "category": "General purpose",
    "gpuNum": 0,
    "hideHardwareSpecs": false,
    "memoryGiB": 128,
    "name": "ml.m5.8xlarge",
    "vcpuNum": 32
   },
   {
    "_defaultOrder": 9,
    "_isFastLaunch": false,
    "category": "General purpose",
    "gpuNum": 0,
    "hideHardwareSpecs": false,
    "memoryGiB": 192,
    "name": "ml.m5.12xlarge",
    "vcpuNum": 48
   },
   {
    "_defaultOrder": 10,
    "_isFastLaunch": false,
    "category": "General purpose",
    "gpuNum": 0,
    "hideHardwareSpecs": false,
    "memoryGiB": 256,
    "name": "ml.m5.16xlarge",
    "vcpuNum": 64
   },
   {
    "_defaultOrder": 11,
    "_isFastLaunch": false,
    "category": "General purpose",
    "gpuNum": 0,
    "hideHardwareSpecs": false,
    "memoryGiB": 384,
    "name": "ml.m5.24xlarge",
    "vcpuNum": 96
   },
   {
    "_defaultOrder": 12,
    "_isFastLaunch": false,
    "category": "General purpose",
    "gpuNum": 0,
    "hideHardwareSpecs": false,
    "memoryGiB": 8,
    "name": "ml.m5d.large",
    "vcpuNum": 2
   },
   {
    "_defaultOrder": 13,
    "_isFastLaunch": false,
    "category": "General purpose",
    "gpuNum": 0,
    "hideHardwareSpecs": false,
    "memoryGiB": 16,
    "name": "ml.m5d.xlarge",
    "vcpuNum": 4
   },
   {
    "_defaultOrder": 14,
    "_isFastLaunch": false,
    "category": "General purpose",
    "gpuNum": 0,
    "hideHardwareSpecs": false,
    "memoryGiB": 32,
    "name": "ml.m5d.2xlarge",
    "vcpuNum": 8
   },
   {
    "_defaultOrder": 15,
    "_isFastLaunch": false,
    "category": "General purpose",
    "gpuNum": 0,
    "hideHardwareSpecs": false,
    "memoryGiB": 64,
    "name": "ml.m5d.4xlarge",
    "vcpuNum": 16
   },
   {
    "_defaultOrder": 16,
    "_isFastLaunch": false,
    "category": "General purpose",
    "gpuNum": 0,
    "hideHardwareSpecs": false,
    "memoryGiB": 128,
    "name": "ml.m5d.8xlarge",
    "vcpuNum": 32
   },
   {
    "_defaultOrder": 17,
    "_isFastLaunch": false,
    "category": "General purpose",
    "gpuNum": 0,
    "hideHardwareSpecs": false,
    "memoryGiB": 192,
    "name": "ml.m5d.12xlarge",
    "vcpuNum": 48
   },
   {
    "_defaultOrder": 18,
    "_isFastLaunch": false,
    "category": "General purpose",
    "gpuNum": 0,
    "hideHardwareSpecs": false,
    "memoryGiB": 256,
    "name": "ml.m5d.16xlarge",
    "vcpuNum": 64
   },
   {
    "_defaultOrder": 19,
    "_isFastLaunch": false,
    "category": "General purpose",
    "gpuNum": 0,
    "hideHardwareSpecs": false,
    "memoryGiB": 384,
    "name": "ml.m5d.24xlarge",
    "vcpuNum": 96
   },
   {
    "_defaultOrder": 20,
    "_isFastLaunch": false,
    "category": "General purpose",
    "gpuNum": 0,
    "hideHardwareSpecs": true,
    "memoryGiB": 0,
    "name": "ml.geospatial.interactive",
    "supportedImageNames": [
     "sagemaker-geospatial-v1-0"
    ],
    "vcpuNum": 0
   },
   {
    "_defaultOrder": 21,
    "_isFastLaunch": true,
    "category": "Compute optimized",
    "gpuNum": 0,
    "hideHardwareSpecs": false,
    "memoryGiB": 4,
    "name": "ml.c5.large",
    "vcpuNum": 2
   },
   {
    "_defaultOrder": 22,
    "_isFastLaunch": false,
    "category": "Compute optimized",
    "gpuNum": 0,
    "hideHardwareSpecs": false,
    "memoryGiB": 8,
    "name": "ml.c5.xlarge",
    "vcpuNum": 4
   },
   {
    "_defaultOrder": 23,
    "_isFastLaunch": false,
    "category": "Compute optimized",
    "gpuNum": 0,
    "hideHardwareSpecs": false,
    "memoryGiB": 16,
    "name": "ml.c5.2xlarge",
    "vcpuNum": 8
   },
   {
    "_defaultOrder": 24,
    "_isFastLaunch": false,
    "category": "Compute optimized",
    "gpuNum": 0,
    "hideHardwareSpecs": false,
    "memoryGiB": 32,
    "name": "ml.c5.4xlarge",
    "vcpuNum": 16
   },
   {
    "_defaultOrder": 25,
    "_isFastLaunch": false,
    "category": "Compute optimized",
    "gpuNum": 0,
    "hideHardwareSpecs": false,
    "memoryGiB": 72,
    "name": "ml.c5.9xlarge",
    "vcpuNum": 36
   },
   {
    "_defaultOrder": 26,
    "_isFastLaunch": false,
    "category": "Compute optimized",
    "gpuNum": 0,
    "hideHardwareSpecs": false,
    "memoryGiB": 96,
    "name": "ml.c5.12xlarge",
    "vcpuNum": 48
   },
   {
    "_defaultOrder": 27,
    "_isFastLaunch": false,
    "category": "Compute optimized",
    "gpuNum": 0,
    "hideHardwareSpecs": false,
    "memoryGiB": 144,
    "name": "ml.c5.18xlarge",
    "vcpuNum": 72
   },
   {
    "_defaultOrder": 28,
    "_isFastLaunch": false,
    "category": "Compute optimized",
    "gpuNum": 0,
    "hideHardwareSpecs": false,
    "memoryGiB": 192,
    "name": "ml.c5.24xlarge",
    "vcpuNum": 96
   },
   {
    "_defaultOrder": 29,
    "_isFastLaunch": true,
    "category": "Accelerated computing",
    "gpuNum": 1,
    "hideHardwareSpecs": false,
    "memoryGiB": 16,
    "name": "ml.g4dn.xlarge",
    "vcpuNum": 4
   },
   {
    "_defaultOrder": 30,
    "_isFastLaunch": false,
    "category": "Accelerated computing",
    "gpuNum": 1,
    "hideHardwareSpecs": false,
    "memoryGiB": 32,
    "name": "ml.g4dn.2xlarge",
    "vcpuNum": 8
   },
   {
    "_defaultOrder": 31,
    "_isFastLaunch": false,
    "category": "Accelerated computing",
    "gpuNum": 1,
    "hideHardwareSpecs": false,
    "memoryGiB": 64,
    "name": "ml.g4dn.4xlarge",
    "vcpuNum": 16
   },
   {
    "_defaultOrder": 32,
    "_isFastLaunch": false,
    "category": "Accelerated computing",
    "gpuNum": 1,
    "hideHardwareSpecs": false,
    "memoryGiB": 128,
    "name": "ml.g4dn.8xlarge",
    "vcpuNum": 32
   },
   {
    "_defaultOrder": 33,
    "_isFastLaunch": false,
    "category": "Accelerated computing",
    "gpuNum": 4,
    "hideHardwareSpecs": false,
    "memoryGiB": 192,
    "name": "ml.g4dn.12xlarge",
    "vcpuNum": 48
   },
   {
    "_defaultOrder": 34,
    "_isFastLaunch": false,
    "category": "Accelerated computing",
    "gpuNum": 1,
    "hideHardwareSpecs": false,
    "memoryGiB": 256,
    "name": "ml.g4dn.16xlarge",
    "vcpuNum": 64
   },
   {
    "_defaultOrder": 35,
    "_isFastLaunch": false,
    "category": "Accelerated computing",
    "gpuNum": 1,
    "hideHardwareSpecs": false,
    "memoryGiB": 61,
    "name": "ml.p3.2xlarge",
    "vcpuNum": 8
   },
   {
    "_defaultOrder": 36,
    "_isFastLaunch": false,
    "category": "Accelerated computing",
    "gpuNum": 4,
    "hideHardwareSpecs": false,
    "memoryGiB": 244,
    "name": "ml.p3.8xlarge",
    "vcpuNum": 32
   },
   {
    "_defaultOrder": 37,
    "_isFastLaunch": false,
    "category": "Accelerated computing",
    "gpuNum": 8,
    "hideHardwareSpecs": false,
    "memoryGiB": 488,
    "name": "ml.p3.16xlarge",
    "vcpuNum": 64
   },
   {
    "_defaultOrder": 38,
    "_isFastLaunch": false,
    "category": "Accelerated computing",
    "gpuNum": 8,
    "hideHardwareSpecs": false,
    "memoryGiB": 768,
    "name": "ml.p3dn.24xlarge",
    "vcpuNum": 96
   },
   {
    "_defaultOrder": 39,
    "_isFastLaunch": false,
    "category": "Memory Optimized",
    "gpuNum": 0,
    "hideHardwareSpecs": false,
    "memoryGiB": 16,
    "name": "ml.r5.large",
    "vcpuNum": 2
   },
   {
    "_defaultOrder": 40,
    "_isFastLaunch": false,
    "category": "Memory Optimized",
    "gpuNum": 0,
    "hideHardwareSpecs": false,
    "memoryGiB": 32,
    "name": "ml.r5.xlarge",
    "vcpuNum": 4
   },
   {
    "_defaultOrder": 41,
    "_isFastLaunch": false,
    "category": "Memory Optimized",
    "gpuNum": 0,
    "hideHardwareSpecs": false,
    "memoryGiB": 64,
    "name": "ml.r5.2xlarge",
    "vcpuNum": 8
   },
   {
    "_defaultOrder": 42,
    "_isFastLaunch": false,
    "category": "Memory Optimized",
    "gpuNum": 0,
    "hideHardwareSpecs": false,
    "memoryGiB": 128,
    "name": "ml.r5.4xlarge",
    "vcpuNum": 16
   },
   {
    "_defaultOrder": 43,
    "_isFastLaunch": false,
    "category": "Memory Optimized",
    "gpuNum": 0,
    "hideHardwareSpecs": false,
    "memoryGiB": 256,
    "name": "ml.r5.8xlarge",
    "vcpuNum": 32
   },
   {
    "_defaultOrder": 44,
    "_isFastLaunch": false,
    "category": "Memory Optimized",
    "gpuNum": 0,
    "hideHardwareSpecs": false,
    "memoryGiB": 384,
    "name": "ml.r5.12xlarge",
    "vcpuNum": 48
   },
   {
    "_defaultOrder": 45,
    "_isFastLaunch": false,
    "category": "Memory Optimized",
    "gpuNum": 0,
    "hideHardwareSpecs": false,
    "memoryGiB": 512,
    "name": "ml.r5.16xlarge",
    "vcpuNum": 64
   },
   {
    "_defaultOrder": 46,
    "_isFastLaunch": false,
    "category": "Memory Optimized",
    "gpuNum": 0,
    "hideHardwareSpecs": false,
    "memoryGiB": 768,
    "name": "ml.r5.24xlarge",
    "vcpuNum": 96
   },
   {
    "_defaultOrder": 47,
    "_isFastLaunch": false,
    "category": "Accelerated computing",
    "gpuNum": 1,
    "hideHardwareSpecs": false,
    "memoryGiB": 16,
    "name": "ml.g5.xlarge",
    "vcpuNum": 4
   },
   {
    "_defaultOrder": 48,
    "_isFastLaunch": false,
    "category": "Accelerated computing",
    "gpuNum": 1,
    "hideHardwareSpecs": false,
    "memoryGiB": 32,
    "name": "ml.g5.2xlarge",
    "vcpuNum": 8
   },
   {
    "_defaultOrder": 49,
    "_isFastLaunch": false,
    "category": "Accelerated computing",
    "gpuNum": 1,
    "hideHardwareSpecs": false,
    "memoryGiB": 64,
    "name": "ml.g5.4xlarge",
    "vcpuNum": 16
   },
   {
    "_defaultOrder": 50,
    "_isFastLaunch": false,
    "category": "Accelerated computing",
    "gpuNum": 1,
    "hideHardwareSpecs": false,
    "memoryGiB": 128,
    "name": "ml.g5.8xlarge",
    "vcpuNum": 32
   },
   {
    "_defaultOrder": 51,
    "_isFastLaunch": false,
    "category": "Accelerated computing",
    "gpuNum": 1,
    "hideHardwareSpecs": false,
    "memoryGiB": 256,
    "name": "ml.g5.16xlarge",
    "vcpuNum": 64
   },
   {
    "_defaultOrder": 52,
    "_isFastLaunch": false,
    "category": "Accelerated computing",
    "gpuNum": 4,
    "hideHardwareSpecs": false,
    "memoryGiB": 192,
    "name": "ml.g5.12xlarge",
    "vcpuNum": 48
   },
   {
    "_defaultOrder": 53,
    "_isFastLaunch": false,
    "category": "Accelerated computing",
    "gpuNum": 4,
    "hideHardwareSpecs": false,
    "memoryGiB": 384,
    "name": "ml.g5.24xlarge",
    "vcpuNum": 96
   },
   {
    "_defaultOrder": 54,
    "_isFastLaunch": false,
    "category": "Accelerated computing",
    "gpuNum": 8,
    "hideHardwareSpecs": false,
    "memoryGiB": 768,
    "name": "ml.g5.48xlarge",
    "vcpuNum": 192
   },
   {
    "_defaultOrder": 55,
    "_isFastLaunch": false,
    "category": "Accelerated computing",
    "gpuNum": 8,
    "hideHardwareSpecs": false,
    "memoryGiB": 1152,
    "name": "ml.p4d.24xlarge",
    "vcpuNum": 96
   },
   {
    "_defaultOrder": 56,
    "_isFastLaunch": false,
    "category": "Accelerated computing",
    "gpuNum": 8,
    "hideHardwareSpecs": false,
    "memoryGiB": 1152,
    "name": "ml.p4de.24xlarge",
    "vcpuNum": 96
   },
   {
    "_defaultOrder": 57,
    "_isFastLaunch": false,
    "category": "Accelerated computing",
    "gpuNum": 0,
    "hideHardwareSpecs": false,
    "memoryGiB": 32,
    "name": "ml.trn1.2xlarge",
    "vcpuNum": 8
   },
   {
    "_defaultOrder": 58,
    "_isFastLaunch": false,
    "category": "Accelerated computing",
    "gpuNum": 0,
    "hideHardwareSpecs": false,
    "memoryGiB": 512,
    "name": "ml.trn1.32xlarge",
    "vcpuNum": 128
   },
   {
    "_defaultOrder": 59,
    "_isFastLaunch": false,
    "category": "Accelerated computing",
    "gpuNum": 0,
    "hideHardwareSpecs": false,
    "memoryGiB": 512,
    "name": "ml.trn1n.32xlarge",
    "vcpuNum": 128
   }
  ],
  "instance_type": "ml.t3.medium",
  "kernelspec": {
   "display_name": "ML",
   "language": "python",
   "name": "python3"
  },
  "language_info": {
   "codemirror_mode": {
    "name": "ipython",
    "version": 3
   },
   "file_extension": ".py",
   "mimetype": "text/x-python",
   "name": "python",
   "nbconvert_exporter": "python",
   "pygments_lexer": "ipython3",
   "version": "3.11.5"
  }
 },
 "nbformat": 4,
 "nbformat_minor": 5
}
